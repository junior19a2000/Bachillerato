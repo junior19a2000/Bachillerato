{
  "metadata": {
    "widgets": {
      "application/vnd.jupyter.widget-state+json": {
        "version_major": 2,
        "version_minor": 0,
        "state": {
          "723e11dbc9dc49b78a456c8520b17abf": {
            "model_name": "LayoutModel",
            "model_module": "@jupyter-widgets/base",
            "model_module_version": "2.0.0",
            "state": {
              "margin": "0px 0px 10px 0px",
              "width": "250px"
            }
          },
          "ccebf15fe2a34e0f8e7eb4370d102c7a": {
            "model_name": "HTMLStyleModel",
            "model_module": "@jupyter-widgets/controls",
            "model_module_version": "2.0.0",
            "state": {
              "description_width": ""
            }
          },
          "3486b304dfac41d2a6af7084745aad78": {
            "model_name": "HTMLModel",
            "model_module": "@jupyter-widgets/controls",
            "model_module_version": "2.0.0",
            "state": {
              "value": "<center><font face=\"Times New Roman\"><font size=\"5\">                 Parámetros de calculo                 </font></font></center>",
              "layout": "IPY_MODEL_723e11dbc9dc49b78a456c8520b17abf",
              "style": "IPY_MODEL_ccebf15fe2a34e0f8e7eb4370d102c7a"
            }
          },
          "5dff43cdf1fb4ab38ded1bb169f63d11": {
            "model_name": "LayoutModel",
            "model_module": "@jupyter-widgets/base",
            "model_module_version": "2.0.0",
            "state": {
              "margin": "0px 0px 10px 0px",
              "width": "200px"
            }
          },
          "e5d7177d60794dc4bd3f834c8d3e132b": {
            "model_name": "DescriptionStyleModel",
            "model_module": "@jupyter-widgets/controls",
            "model_module_version": "2.0.0",
            "state": {
              "description_width": ""
            }
          },
          "37c59f4b1ba0402d901dde1988d57cb7": {
            "model_name": "DropdownModel",
            "model_module": "@jupyter-widgets/controls",
            "model_module_version": "2.0.0",
            "state": {
              "description": "Apoyo 1",
              "index": 1,
              "_options_labels": [
                "Elastico",
                "Fijo"
              ],
              "layout": "IPY_MODEL_5dff43cdf1fb4ab38ded1bb169f63d11",
              "style": "IPY_MODEL_e5d7177d60794dc4bd3f834c8d3e132b"
            }
          },
          "ee0df40f45ec451a9a06bcc1146a254a": {
            "model_name": "LayoutModel",
            "model_module": "@jupyter-widgets/base",
            "model_module_version": "2.0.0",
            "state": {
              "margin": "0px 0px 10px 0px",
              "width": "200px"
            }
          },
          "77ef290c007846d2885430772730dfac": {
            "model_name": "DescriptionStyleModel",
            "model_module": "@jupyter-widgets/controls",
            "model_module_version": "2.0.0",
            "state": {
              "description_width": ""
            }
          },
          "ea258810fad24701a92340e1b5a3bbda": {
            "model_name": "DropdownModel",
            "model_module": "@jupyter-widgets/controls",
            "model_module_version": "2.0.0",
            "state": {
              "description": "Apoyo 2",
              "index": 1,
              "_options_labels": [
                "Elastico",
                "Fijo"
              ],
              "layout": "IPY_MODEL_ee0df40f45ec451a9a06bcc1146a254a",
              "style": "IPY_MODEL_77ef290c007846d2885430772730dfac"
            }
          },
          "6ad3c1b3771040e8997784422272d02e": {
            "model_name": "LayoutModel",
            "model_module": "@jupyter-widgets/base",
            "model_module_version": "2.0.0",
            "state": {
              "height": "auto",
              "margin": "0px 30px 0px 0px",
              "width": "30%"
            }
          },
          "673a8bc57c71480d9fb7173aefc721f2": {
            "model_name": "DescriptionStyleModel",
            "model_module": "@jupyter-widgets/controls",
            "model_module_version": "2.0.0",
            "state": {
              "description_width": ""
            }
          },
          "8a0a460efc9d4e398e2822db3567c301": {
            "model_name": "DropdownModel",
            "model_module": "@jupyter-widgets/controls",
            "model_module_version": "2.0.0",
            "state": {
              "description": "Grafica de: ",
              "index": 0,
              "_options_labels": [
                "Cortantes",
                "Momentos",
                "Pendientes",
                "Deflexiones"
              ],
              "layout": "IPY_MODEL_6ad3c1b3771040e8997784422272d02e",
              "style": "IPY_MODEL_673a8bc57c71480d9fb7173aefc721f2"
            }
          },
          "e4c6b18c872443359ffa3e2f8176eb85": {
            "model_name": "LayoutModel",
            "model_module": "@jupyter-widgets/base",
            "model_module_version": "2.0.0",
            "state": {
              "margin": "0px 0px 10px 0px",
              "width": "200px"
            }
          },
          "98e18088ba364ac499ab96d8c3571dc3": {
            "model_name": "DescriptionStyleModel",
            "model_module": "@jupyter-widgets/controls",
            "model_module_version": "2.0.0",
            "state": {
              "description_width": ""
            }
          },
          "d2a540f55f8d4e67a81b0eca17f51ffb": {
            "model_name": "BoundedFloatTextModel",
            "model_module": "@jupyter-widgets/controls",
            "model_module_version": "2.0.0",
            "state": {
              "description": "D (kg/m3)",
              "value": 7850,
              "max": 10000,
              "min": 10,
              "step": 10,
              "layout": "IPY_MODEL_e4c6b18c872443359ffa3e2f8176eb85",
              "style": "IPY_MODEL_98e18088ba364ac499ab96d8c3571dc3"
            }
          },
          "2abe3d2b9f8b439fbd5c15d48d149de7": {
            "model_name": "LayoutModel",
            "model_module": "@jupyter-widgets/base",
            "model_module_version": "2.0.0",
            "state": {
              "margin": "0px 0px 10px 0px",
              "width": "200px"
            }
          },
          "ed6a3c77cffa4bffa2d68dfd59601117": {
            "model_name": "DescriptionStyleModel",
            "model_module": "@jupyter-widgets/controls",
            "model_module_version": "2.0.0",
            "state": {
              "description_width": ""
            }
          },
          "4453eef9880d44db8f609c314298a524": {
            "model_name": "BoundedFloatTextModel",
            "model_module": "@jupyter-widgets/controls",
            "model_module_version": "2.0.0",
            "state": {
              "description": "Ø ext. (mm)",
              "value": 50,
              "max": 10000,
              "min": 10,
              "step": 1,
              "layout": "IPY_MODEL_2abe3d2b9f8b439fbd5c15d48d149de7",
              "style": "IPY_MODEL_ed6a3c77cffa4bffa2d68dfd59601117"
            }
          },
          "04667868efc946728592a7bc5f3f7a46": {
            "model_name": "LayoutModel",
            "model_module": "@jupyter-widgets/base",
            "model_module_version": "2.0.0",
            "state": {
              "margin": "0px 0px 10px 0px",
              "width": "200px"
            }
          },
          "f43efaa7a52f4c99bc36e5d15683c602": {
            "model_name": "DescriptionStyleModel",
            "model_module": "@jupyter-widgets/controls",
            "model_module_version": "2.0.0",
            "state": {
              "description_width": ""
            }
          },
          "0f589911f980464b8e02c248dac00dab": {
            "model_name": "BoundedFloatTextModel",
            "model_module": "@jupyter-widgets/controls",
            "model_module_version": "2.0.0",
            "state": {
              "description": "Ø int. (mm)",
              "max": 10000,
              "step": 1,
              "layout": "IPY_MODEL_04667868efc946728592a7bc5f3f7a46",
              "style": "IPY_MODEL_f43efaa7a52f4c99bc36e5d15683c602"
            }
          },
          "bb865bebb4f94afbbd9616142ed46178": {
            "model_name": "LayoutModel",
            "model_module": "@jupyter-widgets/base",
            "model_module_version": "2.0.0",
            "state": {
              "margin": "0px 0px 10px 0px",
              "width": "200px"
            }
          },
          "470b6f0d856343ad9f70c4660ad73617": {
            "model_name": "DescriptionStyleModel",
            "model_module": "@jupyter-widgets/controls",
            "model_module_version": "2.0.0",
            "state": {
              "description_width": ""
            }
          },
          "ff4d6b79ff554a85983054e4f43fa1f6": {
            "model_name": "BoundedFloatTextModel",
            "model_module": "@jupyter-widgets/controls",
            "model_module_version": "2.0.0",
            "state": {
              "description": "L (mm)",
              "value": 150,
              "max": 10000,
              "min": 10,
              "step": 10,
              "layout": "IPY_MODEL_bb865bebb4f94afbbd9616142ed46178",
              "style": "IPY_MODEL_470b6f0d856343ad9f70c4660ad73617"
            }
          },
          "06793e7091514e9bb0eaef20a1e21679": {
            "model_name": "LayoutModel",
            "model_module": "@jupyter-widgets/base",
            "model_module_version": "2.0.0",
            "state": {
              "margin": "0px 0px 10px 0px",
              "width": "200px"
            }
          },
          "82956f2a09b740c793a57a30d4b3c4e7": {
            "model_name": "DescriptionStyleModel",
            "model_module": "@jupyter-widgets/controls",
            "model_module_version": "2.0.0",
            "state": {
              "description_width": ""
            }
          },
          "1b9da3c9fc6a40fbb3c15a29e2eb2014": {
            "model_name": "BoundedIntTextModel",
            "model_module": "@jupyter-widgets/controls",
            "model_module_version": "2.0.0",
            "state": {
              "description": "Elementos",
              "value": 3,
              "layout": "IPY_MODEL_06793e7091514e9bb0eaef20a1e21679",
              "style": "IPY_MODEL_82956f2a09b740c793a57a30d4b3c4e7"
            }
          },
          "1f3087758b494564811e008264b94fa2": {
            "model_name": "LayoutModel",
            "model_module": "@jupyter-widgets/base",
            "model_module_version": "2.0.0",
            "state": {
              "margin": "0px 0px 10px 0px",
              "width": "200px"
            }
          },
          "3dda97b4c24545c79004956055a2cd2d": {
            "model_name": "DescriptionStyleModel",
            "model_module": "@jupyter-widgets/controls",
            "model_module_version": "2.0.0",
            "state": {
              "description_width": ""
            }
          },
          "0f8b5e7de61f43a797f81e9e39dfeebf": {
            "model_name": "FloatTextModel",
            "model_module": "@jupyter-widgets/controls",
            "model_module_version": "2.0.0",
            "state": {
              "description": "F (KN)",
              "value": -10,
              "layout": "IPY_MODEL_1f3087758b494564811e008264b94fa2",
              "style": "IPY_MODEL_3dda97b4c24545c79004956055a2cd2d"
            }
          },
          "6b019b80b763446db0cec52fc97eb0b2": {
            "model_name": "LayoutModel",
            "model_module": "@jupyter-widgets/base",
            "model_module_version": "2.0.0",
            "state": {
              "margin": "0px 0px 10px 0px",
              "width": "200px"
            }
          },
          "45c833f292e44cca95006e7e3fb17fbf": {
            "model_name": "DescriptionStyleModel",
            "model_module": "@jupyter-widgets/controls",
            "model_module_version": "2.0.0",
            "state": {
              "description_width": ""
            }
          },
          "426cf7bd727b4fde88d350a62b26889f": {
            "model_name": "FloatTextModel",
            "model_module": "@jupyter-widgets/controls",
            "model_module_version": "2.0.0",
            "state": {
              "description": "M (KN.m)",
              "layout": "IPY_MODEL_6b019b80b763446db0cec52fc97eb0b2",
              "style": "IPY_MODEL_45c833f292e44cca95006e7e3fb17fbf"
            }
          },
          "07eb80364bd0447dbf898ba51ac1ead5": {
            "model_name": "LayoutModel",
            "model_module": "@jupyter-widgets/base",
            "model_module_version": "2.0.0",
            "state": {
              "margin": "0px 0px 10px 0px",
              "width": "280px"
            }
          },
          "c5a8193997f04e9cad2997ac8cee5667": {
            "model_name": "SliderStyleModel",
            "model_module": "@jupyter-widgets/controls",
            "model_module_version": "2.0.0",
            "state": {
              "description_width": ""
            }
          },
          "eeb98eac5b864bd28c07ff0ace25e3e7": {
            "model_name": "FloatSliderModel",
            "model_module": "@jupyter-widgets/controls",
            "model_module_version": "2.0.0",
            "state": {
              "description": "Dominio",
              "value": 75,
              "max": 150,
              "behavior": "drag-tap",
              "layout": "IPY_MODEL_07eb80364bd0447dbf898ba51ac1ead5",
              "style": "IPY_MODEL_c5a8193997f04e9cad2997ac8cee5667"
            }
          },
          "9b82c35db8a5427c98fe112cdae1825d": {
            "model_name": "LayoutModel",
            "model_module": "@jupyter-widgets/base",
            "model_module_version": "2.0.0",
            "state": {
              "margin": "0px 0px 10px 0px",
              "width": "200px"
            }
          },
          "db05b93135044496a7e7f04b8497715c": {
            "model_name": "CheckboxStyleModel",
            "model_module": "@jupyter-widgets/controls",
            "model_module_version": "2.0.0",
            "state": {
              "description_width": ""
            }
          },
          "6a3b9a3a4aca4b6d8ea8eacae325fc73": {
            "model_name": "CheckboxModel",
            "model_module": "@jupyter-widgets/controls",
            "model_module_version": "2.0.0",
            "state": {
              "description": "Peso del eje",
              "style": "IPY_MODEL_db05b93135044496a7e7f04b8497715c",
              "disabled": false,
              "layout": "IPY_MODEL_9b82c35db8a5427c98fe112cdae1825d",
              "value": false
            }
          },
          "bfedc04aebdc435a8013efdd48b268c9": {
            "model_name": "LayoutModel",
            "model_module": "@jupyter-widgets/base",
            "model_module_version": "2.0.0",
            "state": {
              "height": "auto",
              "margin": "0px 10px 0px 0px",
              "width": "20%"
            }
          },
          "b6d7e99871ee49a9a257fafe5abe5537": {
            "model_name": "ButtonStyleModel",
            "model_module": "@jupyter-widgets/controls",
            "model_module_version": "2.0.0",
            "state": {
              "button_color": "black"
            }
          },
          "33d7c19960194f049966aa945ddf0722": {
            "model_name": "ButtonModel",
            "model_module": "@jupyter-widgets/controls",
            "model_module_version": "2.0.0",
            "state": {
              "description": "Calcular",
              "icon": "gear",
              "button_style": "success",
              "style": "IPY_MODEL_b6d7e99871ee49a9a257fafe5abe5537",
              "layout": "IPY_MODEL_bfedc04aebdc435a8013efdd48b268c9"
            }
          },
          "3b00668485f94e0a9b8cad4fd66fb6d5": {
            "model_name": "LayoutModel",
            "model_module": "@jupyter-widgets/base",
            "model_module_version": "2.0.0",
            "state": {
              "height": "auto",
              "margin": "0px 10px 0px 0px",
              "width": "20%"
            }
          },
          "0ec0e2e8a3f249d48c8d266cac161eaa": {
            "model_name": "ButtonStyleModel",
            "model_module": "@jupyter-widgets/controls",
            "model_module_version": "2.0.0",
            "state": {
              "button_color": "black"
            }
          },
          "aa46a9e2c8ef4cc28c28a1926d563c6f": {
            "model_name": "ButtonModel",
            "model_module": "@jupyter-widgets/controls",
            "model_module_version": "2.0.0",
            "state": {
              "description": "Graficar",
              "icon": "pencil",
              "button_style": "success",
              "style": "IPY_MODEL_0ec0e2e8a3f249d48c8d266cac161eaa",
              "layout": "IPY_MODEL_3b00668485f94e0a9b8cad4fd66fb6d5"
            }
          },
          "19f35fb35f8b4af2a2a0a93721bb2f3b": {
            "model_name": "LayoutModel",
            "model_module": "@jupyter-widgets/base",
            "model_module_version": "2.0.0",
            "state": {
              "height": "auto",
              "margin": "0px 0px 0px 0px",
              "width": "20%"
            }
          },
          "2a14b9a333114d83b5ec7c41060ac251": {
            "model_name": "ButtonStyleModel",
            "model_module": "@jupyter-widgets/controls",
            "model_module_version": "2.0.0",
            "state": {
              "button_color": "black"
            }
          },
          "ec54f051ff9c4b76acf2f596fe475eea": {
            "model_name": "ButtonModel",
            "model_module": "@jupyter-widgets/controls",
            "model_module_version": "2.0.0",
            "state": {
              "description": "Enumerar",
              "icon": "eye",
              "button_style": "success",
              "style": "IPY_MODEL_2a14b9a333114d83b5ec7c41060ac251",
              "layout": "IPY_MODEL_19f35fb35f8b4af2a2a0a93721bb2f3b"
            }
          },
          "1fdc92b6055e46c9ad441b480ce61ad8": {
            "model_name": "LayoutModel",
            "model_module": "@jupyter-widgets/base",
            "model_module_version": "2.0.0",
            "state": {
              "border_top": "0px",
              "border_right": "0px",
              "border_bottom": "0px",
              "border_left": "0px",
              "height": "120px",
              "margin": "0px 0px 0px 0px",
              "padding": "0px",
              "width": "100%",
              "grid_template_rows": "repeat(4, 1fr)",
              "grid_template_columns": "repeat(4, 1fr)",
              "grid_template_areas": "\"widget001 widget002 widget003 widget004\"\n\"widget005 widget006 widget007 widget008\"\n\"widget009 widget010 widget011 widget012\"\n\"widget013 widget014 widget015 widget016\""
            }
          },
          "fc083821c2264c75bfca3f9b8d84932e": {
            "model_name": "GridBoxModel",
            "model_module": "@jupyter-widgets/controls",
            "model_module_version": "2.0.0",
            "state": {
              "children": [
                "IPY_MODEL_43ec0c370c6a4b0f81da5d7db163577a",
                "IPY_MODEL_2dab9792f9414cf1bc54a2b027f017ad",
                "IPY_MODEL_78fbde160ace4358a6d5fa64727ff410",
                "IPY_MODEL_7c13294e2ad4446bbbfbfef1a1f8afc3",
                "IPY_MODEL_f9c7431b4c0345da9949342be5ab9e07",
                "IPY_MODEL_6c78cb671b2f445a84b14950b3b47c29",
                "IPY_MODEL_4569e82d00c04a10804f19a7ccdd80bd",
                "IPY_MODEL_5859efd051af42ff82b41e55b1b2fc53",
                "IPY_MODEL_6e7e3c6fbb704a8c861ea9c65a5e9b56",
                "IPY_MODEL_68b9fd9e1720425e9b28248a3a6e84b7",
                "IPY_MODEL_c53bcb2701c14c04aef8260ff771f664",
                "IPY_MODEL_66d04937559b48ff9622ad0ebf48054a",
                "IPY_MODEL_708e3e766b0c45a6b81e15a59da0a86a",
                "IPY_MODEL_1732a8a3dc0d4071a02b2fc00816769b",
                "IPY_MODEL_e56ea085517c4c39aaf069a35aad9457",
                "IPY_MODEL_03959d6e54ce4519a5c930bc9eb368ea"
              ],
              "layout": "IPY_MODEL_1fdc92b6055e46c9ad441b480ce61ad8"
            }
          },
          "cb124cfa0bcc40529774b25f0b7f7017": {
            "model_name": "LayoutModel",
            "model_module": "@jupyter-widgets/base",
            "model_module_version": "2.0.0",
            "state": {
              "height": "5px",
              "width": "150px",
              "grid_area": "widget001"
            }
          },
          "d54b331fc26a43ff83a06b9095ba8bcc": {
            "model_name": "TextStyleModel",
            "model_module": "@jupyter-widgets/controls",
            "model_module_version": "2.0.0",
            "state": {
              "description_width": ""
            }
          },
          "43ec0c370c6a4b0f81da5d7db163577a": {
            "model_name": "TextModel",
            "model_module": "@jupyter-widgets/controls",
            "model_module_version": "2.0.0",
            "state": {
              "layout": "IPY_MODEL_cb124cfa0bcc40529774b25f0b7f7017",
              "style": "IPY_MODEL_d54b331fc26a43ff83a06b9095ba8bcc"
            }
          },
          "bddfbcbbe56c479faf4972d912db7237": {
            "model_name": "LayoutModel",
            "model_module": "@jupyter-widgets/base",
            "model_module_version": "2.0.0",
            "state": {
              "height": "5px",
              "width": "150px",
              "grid_area": "widget002"
            }
          },
          "ba5ad4b6d7aa4611819253b09b193df2": {
            "model_name": "TextStyleModel",
            "model_module": "@jupyter-widgets/controls",
            "model_module_version": "2.0.0",
            "state": {
              "description_width": ""
            }
          },
          "2dab9792f9414cf1bc54a2b027f017ad": {
            "model_name": "TextModel",
            "model_module": "@jupyter-widgets/controls",
            "model_module_version": "2.0.0",
            "state": {
              "value": "Deflexiones (mm)",
              "layout": "IPY_MODEL_bddfbcbbe56c479faf4972d912db7237",
              "style": "IPY_MODEL_ba5ad4b6d7aa4611819253b09b193df2"
            }
          },
          "5f6f17d22d2b4d03ae9f994095eb023f": {
            "model_name": "LayoutModel",
            "model_module": "@jupyter-widgets/base",
            "model_module_version": "2.0.0",
            "state": {
              "height": "5px",
              "width": "150px",
              "grid_area": "widget003"
            }
          },
          "819d92cde1364e0595aad76c65a23e74": {
            "model_name": "TextStyleModel",
            "model_module": "@jupyter-widgets/controls",
            "model_module_version": "2.0.0",
            "state": {
              "description_width": ""
            }
          },
          "78fbde160ace4358a6d5fa64727ff410": {
            "model_name": "TextModel",
            "model_module": "@jupyter-widgets/controls",
            "model_module_version": "2.0.0",
            "state": {
              "value": "Velocidad Crítica (rpm)",
              "layout": "IPY_MODEL_5f6f17d22d2b4d03ae9f994095eb023f",
              "style": "IPY_MODEL_819d92cde1364e0595aad76c65a23e74"
            }
          },
          "01778f9290014fd19394cc9d3ff72ab0": {
            "model_name": "LayoutModel",
            "model_module": "@jupyter-widgets/base",
            "model_module_version": "2.0.0",
            "state": {
              "height": "5px",
              "width": "150px",
              "grid_area": "widget004"
            }
          },
          "3a027233b78d4b1480f240731f7e8314": {
            "model_name": "TextStyleModel",
            "model_module": "@jupyter-widgets/controls",
            "model_module_version": "2.0.0",
            "state": {
              "description_width": ""
            }
          },
          "7c13294e2ad4446bbbfbfef1a1f8afc3": {
            "model_name": "TextModel",
            "model_module": "@jupyter-widgets/controls",
            "model_module_version": "2.0.0",
            "state": {
              "value": "Esfuerzo (Pa)",
              "layout": "IPY_MODEL_01778f9290014fd19394cc9d3ff72ab0",
              "style": "IPY_MODEL_3a027233b78d4b1480f240731f7e8314"
            }
          },
          "b714c140538e49bf861031e509e48d56": {
            "model_name": "LayoutModel",
            "model_module": "@jupyter-widgets/base",
            "model_module_version": "2.0.0",
            "state": {
              "height": "5px",
              "width": "150px",
              "grid_area": "widget005"
            }
          },
          "4999b070e221469e925781ff50c0b950": {
            "model_name": "TextStyleModel",
            "model_module": "@jupyter-widgets/controls",
            "model_module_version": "2.0.0",
            "state": {
              "description_width": ""
            }
          },
          "f9c7431b4c0345da9949342be5ab9e07": {
            "model_name": "TextModel",
            "model_module": "@jupyter-widgets/controls",
            "model_module_version": "2.0.0",
            "state": {
              "value": "Bernoulli",
              "layout": "IPY_MODEL_b714c140538e49bf861031e509e48d56",
              "style": "IPY_MODEL_4999b070e221469e925781ff50c0b950"
            }
          },
          "aefc010869c74b78b8f1d212c2d6d5f2": {
            "model_name": "LayoutModel",
            "model_module": "@jupyter-widgets/base",
            "model_module_version": "2.0.0",
            "state": {
              "height": "5px",
              "width": "150px",
              "grid_area": "widget006"
            }
          },
          "656e9724f4544afc835e29318a7202f5": {
            "model_name": "TextStyleModel",
            "model_module": "@jupyter-widgets/controls",
            "model_module_version": "2.0.0",
            "state": {
              "description_width": ""
            }
          },
          "6c78cb671b2f445a84b14950b3b47c29": {
            "model_name": "TextModel",
            "model_module": "@jupyter-widgets/controls",
            "model_module_version": "2.0.0",
            "state": {
              "value": "2.7679120537721626e-06",
              "layout": "IPY_MODEL_aefc010869c74b78b8f1d212c2d6d5f2",
              "style": "IPY_MODEL_656e9724f4544afc835e29318a7202f5"
            }
          },
          "713ae65bc74d4ed6b4c25c17b9a3edb9": {
            "model_name": "LayoutModel",
            "model_module": "@jupyter-widgets/base",
            "model_module_version": "2.0.0",
            "state": {
              "height": "5px",
              "width": "150px",
              "grid_area": "widget007"
            }
          },
          "c6cf891be0904566b1a07533549343b5": {
            "model_name": "TextStyleModel",
            "model_module": "@jupyter-widgets/controls",
            "model_module_version": "2.0.0",
            "state": {
              "description_width": ""
            }
          },
          "4569e82d00c04a10804f19a7ccdd80bd": {
            "model_name": "TextModel",
            "model_module": "@jupyter-widgets/controls",
            "model_module_version": "2.0.0",
            "state": {
              "value": "20858.21247023522",
              "layout": "IPY_MODEL_713ae65bc74d4ed6b4c25c17b9a3edb9",
              "style": "IPY_MODEL_c6cf891be0904566b1a07533549343b5"
            }
          },
          "4b1a74fde2ff48b8a27201a6b56dea10": {
            "model_name": "LayoutModel",
            "model_module": "@jupyter-widgets/base",
            "model_module_version": "2.0.0",
            "state": {
              "height": "5px",
              "width": "150px",
              "grid_area": "widget008"
            }
          },
          "f77b0b9a0d56477181926db5631cc2fc": {
            "model_name": "TextStyleModel",
            "model_module": "@jupyter-widgets/controls",
            "model_module_version": "2.0.0",
            "state": {
              "description_width": ""
            }
          },
          "5859efd051af42ff82b41e55b1b2fc53": {
            "model_name": "TextModel",
            "model_module": "@jupyter-widgets/controls",
            "model_module_version": "2.0.0",
            "state": {
              "value": "16371570.006015595",
              "layout": "IPY_MODEL_4b1a74fde2ff48b8a27201a6b56dea10",
              "style": "IPY_MODEL_f77b0b9a0d56477181926db5631cc2fc"
            }
          },
          "8e31d426b0ab47379fa19e058a8cb546": {
            "model_name": "LayoutModel",
            "model_module": "@jupyter-widgets/base",
            "model_module_version": "2.0.0",
            "state": {
              "height": "5px",
              "width": "150px",
              "grid_area": "widget009"
            }
          },
          "517e029b39e748e9954d18795bc01d62": {
            "model_name": "TextStyleModel",
            "model_module": "@jupyter-widgets/controls",
            "model_module_version": "2.0.0",
            "state": {
              "description_width": ""
            }
          },
          "6e7e3c6fbb704a8c861ea9c65a5e9b56": {
            "model_name": "TextModel",
            "model_module": "@jupyter-widgets/controls",
            "model_module_version": "2.0.0",
            "state": {
              "value": "Timoshenko",
              "layout": "IPY_MODEL_8e31d426b0ab47379fa19e058a8cb546",
              "style": "IPY_MODEL_517e029b39e748e9954d18795bc01d62"
            }
          },
          "a1565c81cb01455a98c738e2fc93e779": {
            "model_name": "LayoutModel",
            "model_module": "@jupyter-widgets/base",
            "model_module_version": "2.0.0",
            "state": {
              "height": "5px",
              "width": "150px",
              "grid_area": "widget010"
            }
          },
          "adb8455b96c74c4d8f1e92dab86701e1": {
            "model_name": "TextStyleModel",
            "model_module": "@jupyter-widgets/controls",
            "model_module_version": "2.0.0",
            "state": {
              "description_width": ""
            }
          },
          "68b9fd9e1720425e9b28248a3a6e84b7": {
            "model_name": "TextModel",
            "model_module": "@jupyter-widgets/controls",
            "model_module_version": "2.0.0",
            "state": {
              "value": "2.936249012811605e-06",
              "layout": "IPY_MODEL_a1565c81cb01455a98c738e2fc93e779",
              "style": "IPY_MODEL_adb8455b96c74c4d8f1e92dab86701e1"
            }
          },
          "6922cef785ef418b8d8dec6c8093f7eb": {
            "model_name": "LayoutModel",
            "model_module": "@jupyter-widgets/base",
            "model_module_version": "2.0.0",
            "state": {
              "height": "5px",
              "width": "150px",
              "grid_area": "widget011"
            }
          },
          "34d913e242ab4da48f9b9bb32b2aacac": {
            "model_name": "TextStyleModel",
            "model_module": "@jupyter-widgets/controls",
            "model_module_version": "2.0.0",
            "state": {
              "description_width": ""
            }
          },
          "c53bcb2701c14c04aef8260ff771f664": {
            "model_name": "TextModel",
            "model_module": "@jupyter-widgets/controls",
            "model_module_version": "2.0.0",
            "state": {
              "value": "20297.427405606373",
              "layout": "IPY_MODEL_6922cef785ef418b8d8dec6c8093f7eb",
              "style": "IPY_MODEL_34d913e242ab4da48f9b9bb32b2aacac"
            }
          },
          "e0a1c850e1374faf97deda4640000c60": {
            "model_name": "LayoutModel",
            "model_module": "@jupyter-widgets/base",
            "model_module_version": "2.0.0",
            "state": {
              "height": "5px",
              "width": "150px",
              "grid_area": "widget012"
            }
          },
          "326413266acc4540ba46212c458772ba": {
            "model_name": "TextStyleModel",
            "model_module": "@jupyter-widgets/controls",
            "model_module_version": "2.0.0",
            "state": {
              "description_width": ""
            }
          },
          "66d04937559b48ff9622ad0ebf48054a": {
            "model_name": "TextModel",
            "model_module": "@jupyter-widgets/controls",
            "model_module_version": "2.0.0",
            "state": {
              "value": "16371570.006015517",
              "layout": "IPY_MODEL_e0a1c850e1374faf97deda4640000c60",
              "style": "IPY_MODEL_326413266acc4540ba46212c458772ba"
            }
          },
          "840a4d17cf0c4fb68499757a66c54b53": {
            "model_name": "LayoutModel",
            "model_module": "@jupyter-widgets/base",
            "model_module_version": "2.0.0",
            "state": {
              "height": "5px",
              "width": "150px",
              "grid_area": "widget013"
            }
          },
          "3ed7c501b1fd4d289ab9bc1074af90a4": {
            "model_name": "TextStyleModel",
            "model_module": "@jupyter-widgets/controls",
            "model_module_version": "2.0.0",
            "state": {
              "description_width": ""
            }
          },
          "708e3e766b0c45a6b81e15a59da0a86a": {
            "model_name": "TextModel",
            "model_module": "@jupyter-widgets/controls",
            "model_module_version": "2.0.0",
            "state": {
              "value": "% de Error",
              "layout": "IPY_MODEL_840a4d17cf0c4fb68499757a66c54b53",
              "style": "IPY_MODEL_3ed7c501b1fd4d289ab9bc1074af90a4"
            }
          },
          "caf3807bd8754080b545351c5c71836f": {
            "model_name": "LayoutModel",
            "model_module": "@jupyter-widgets/base",
            "model_module_version": "2.0.0",
            "state": {
              "height": "5px",
              "width": "150px",
              "grid_area": "widget014"
            }
          },
          "b95d5a2056d044c0a12b740067ca6191": {
            "model_name": "TextStyleModel",
            "model_module": "@jupyter-widgets/controls",
            "model_module_version": "2.0.0",
            "state": {
              "description_width": ""
            }
          },
          "1732a8a3dc0d4071a02b2fc00816769b": {
            "model_name": "TextModel",
            "model_module": "@jupyter-widgets/controls",
            "model_module_version": "2.0.0",
            "state": {
              "value": "5.733061409469871",
              "layout": "IPY_MODEL_caf3807bd8754080b545351c5c71836f",
              "style": "IPY_MODEL_b95d5a2056d044c0a12b740067ca6191"
            }
          },
          "40e84bc01a504c48b89df53526e8e882": {
            "model_name": "LayoutModel",
            "model_module": "@jupyter-widgets/base",
            "model_module_version": "2.0.0",
            "state": {
              "height": "5px",
              "width": "150px",
              "grid_area": "widget015"
            }
          },
          "10bdc50f100c48dfb840f45085567c34": {
            "model_name": "TextStyleModel",
            "model_module": "@jupyter-widgets/controls",
            "model_module_version": "2.0.0",
            "state": {
              "description_width": ""
            }
          },
          "e56ea085517c4c39aaf069a35aad9457": {
            "model_name": "TextModel",
            "model_module": "@jupyter-widgets/controls",
            "model_module_version": "2.0.0",
            "state": {
              "value": "2.7628381342255777",
              "layout": "IPY_MODEL_40e84bc01a504c48b89df53526e8e882",
              "style": "IPY_MODEL_10bdc50f100c48dfb840f45085567c34"
            }
          },
          "307f260dffca49cb90899bfb346ac3a0": {
            "model_name": "LayoutModel",
            "model_module": "@jupyter-widgets/base",
            "model_module_version": "2.0.0",
            "state": {
              "height": "5px",
              "width": "150px",
              "grid_area": "widget016"
            }
          },
          "f9338e0bf1f64c4f8ce74d3871f46cb4": {
            "model_name": "TextStyleModel",
            "model_module": "@jupyter-widgets/controls",
            "model_module_version": "2.0.0",
            "state": {
              "description_width": ""
            }
          },
          "03959d6e54ce4519a5c930bc9eb368ea": {
            "model_name": "TextModel",
            "model_module": "@jupyter-widgets/controls",
            "model_module_version": "2.0.0",
            "state": {
              "value": "4.778472451875734e-13",
              "layout": "IPY_MODEL_307f260dffca49cb90899bfb346ac3a0",
              "style": "IPY_MODEL_f9338e0bf1f64c4f8ce74d3871f46cb4"
            }
          },
          "ab4c0913f15c439f8bc94dcc118ceb4b": {
            "model_name": "LinearScaleModel",
            "model_module": "bqplot",
            "model_module_version": "^0.5",
            "state": {
              "_model_module_version": "^0.5",
              "_view_module_version": "^0.5",
              "stabilized": false
            }
          },
          "4a2957a6403e4f059c038d21ca6c0a2b": {
            "model_name": "LinearScaleModel",
            "model_module": "bqplot",
            "model_module_version": "^0.5",
            "state": {
              "_model_module_version": "^0.5",
              "_view_module_version": "^0.5",
              "stabilized": false
            }
          },
          "ca7dae5575e7466ab80a3f02e0781c81": {
            "model_name": "LinesModel",
            "model_module": "bqplot",
            "model_module_version": "^0.5",
            "state": {
              "_model_module_version": "^0.5",
              "_view_module_version": "^0.5",
              "scales": {
                "x": "IPY_MODEL_ab4c0913f15c439f8bc94dcc118ceb4b",
                "y": "IPY_MODEL_4a2957a6403e4f059c038d21ca6c0a2b"
              },
              "labels": [
                "C1",
                "C2"
              ],
              "x": [
                {
                  "dtype": "float64",
                  "shape": [
                    5
                  ],
                  "type": null
                },
                {
                  "dtype": "float64",
                  "shape": [
                    2
                  ],
                  "type": null
                }
              ],
              "y": [
                {
                  "dtype": "float64",
                  "shape": [
                    5
                  ],
                  "type": null
                },
                {
                  "dtype": "float64",
                  "shape": [
                    2
                  ],
                  "type": null
                }
              ],
              "colors": [
                "black"
              ],
              "fill_colors": [],
              "stroke_width": 1.5,
              "opacities": [
                1
              ]
            },
            "buffers": [
              {
                "data": "AAAAAADAUsAAAAAAAMBSQAAAAAAAwFJAAAAAAADAUsAAAAAAAMBSwA==",
                "path": [
                  "x",
                  0,
                  "value"
                ],
                "encoding": "base64"
              },
              {
                "data": "AAAAAAAAAAAAAAAAAAAAAA==",
                "path": [
                  "x",
                  1,
                  "value"
                ],
                "encoding": "base64"
              },
              {
                "data": "AAAAAAAAOcAAAAAAAAA5wAAAAAAAADlAAAAAAAAAOUAAAAAAAAA5wA==",
                "path": [
                  "y",
                  0,
                  "value"
                ],
                "encoding": "base64"
              },
              {
                "data": "AAAAAAAAOUAAAAAAAABJQA==",
                "path": [
                  "y",
                  1,
                  "value"
                ],
                "encoding": "base64"
              }
            ]
          },
          "956b96de3cdc4cea96045a18afb41efb": {
            "model_name": "LinesModel",
            "model_module": "bqplot",
            "model_module_version": "^0.5",
            "state": {
              "_model_module_version": "^0.5",
              "_view_module_version": "^0.5",
              "scales": {
                "x": "IPY_MODEL_ab4c0913f15c439f8bc94dcc118ceb4b",
                "y": "IPY_MODEL_4a2957a6403e4f059c038d21ca6c0a2b"
              },
              "labels": [
                "C1"
              ],
              "x": {
                "dtype": "float64",
                "shape": [
                  5
                ],
                "type": null
              },
              "y": {
                "dtype": "float64",
                "shape": [
                  5
                ],
                "type": null
              },
              "colors": [
                "black"
              ],
              "fill_colors": [],
              "stroke_width": 1.5,
              "line_style": "dashed",
              "opacities": [
                1
              ]
            },
            "buffers": [
              {
                "data": "AAAAAADAUsAAAAAAAMBSQAAAAAAAwFJAAAAAAADAUsAAAAAAAMBSwA==",
                "path": [
                  "x",
                  "value"
                ],
                "encoding": "base64"
              },
              {
                "data": "AAAAAAAAAIAAAAAAAAAAgAAAAAAAAAAAAAAAAAAAAAAAAAAAAAAAgA==",
                "path": [
                  "y",
                  "value"
                ],
                "encoding": "base64"
              }
            ]
          },
          "14869c0bc10e4dc08104a2afe90fb734": {
            "model_name": "LinearScaleModel",
            "model_module": "bqplot",
            "model_module_version": "^0.5",
            "state": {
              "_model_module_version": "^0.5",
              "_view_module_version": "^0.5",
              "stabilized": false
            }
          },
          "d12a9fd934c04e8daf68b05b907e47ca": {
            "model_name": "LinearScaleModel",
            "model_module": "bqplot",
            "model_module_version": "^0.5",
            "state": {
              "_model_module_version": "^0.5",
              "_view_module_version": "^0.5",
              "stabilized": false
            }
          },
          "a1e0bfb28d7b4fb7818d90f1f6b860de": {
            "model_name": "LinesModel",
            "model_module": "bqplot",
            "model_module_version": "^0.5",
            "state": {
              "_model_module_version": "^0.5",
              "_view_module_version": "^0.5",
              "scales": {
                "x": "IPY_MODEL_14869c0bc10e4dc08104a2afe90fb734",
                "y": "IPY_MODEL_d12a9fd934c04e8daf68b05b907e47ca"
              },
              "labels": [
                "C1"
              ],
              "tooltip": "IPY_MODEL_9fea58d8f1854d4a8edef064212521d6",
              "x": {
                "dtype": "float64",
                "shape": [
                  102
                ],
                "type": null
              },
              "y": {
                "dtype": "float64",
                "shape": [
                  102
                ],
                "type": null
              },
              "colors": [
                "black"
              ],
              "fill_colors": [],
              "close_path": true,
              "fill": "inside",
              "marker": "circle",
              "marker_size": 50,
              "opacities": [
                1
              ],
              "fill_opacities": [
                0.3
              ]
            },
            "buffers": [
              {
                "data": "AAAAAAAAAAAAAAAAAAAAAB8a60Njffg/HxrrQ2N9CECXU/ByCl4SQB8a60NjfRhAp+DlFLycHkCXU/ByCl4iQNu2bdu2bSVAHxrrQ2N9KEBifWisD40rQKfg5RS8nC5A9qGxPjTWMECXU/ByCl4yQDkFL6fg5TNA27Zt27ZtNUB9aKwPjfU2QB8a60NjfThAwcspeDkFOkBifWisD407QAUvp+DlFD1Ap+DlFLycPkAkSZIkSRJAQPahsT401kBAxvrQWB+aQUCXU/ByCl5CQGmsD431IUNAOQUvp+DlQ0AKXk7By6lEQNu2bdu2bUVArA+N9aExRkB9aKwPjfVGQE7Byyl4uUdAHxrrQ2N9SEDwcgpeTkFJQMHLKXg5BUpAkiRJkiTJSkBifWisD41LQDTWh8b6UExABS+n4OUUTUDVh8b60NhNQKfg5RS8nE5AeTkFL6dgT0AkSZIkSRJQQI31obE+dFBA9qGxPjTWUEBeTsHLKThRQMb60FgfmlFAL6fg5RT8UUCXU/ByCl5SQAAAAAAAwFJAAAAAAADAUkBprA+N9SFTQNBYHxrrg1NAOQUvp+DlU0CisT401kdUQApeTsHLqVRAcwpeTsELVUDbtm3btm1VQENjfWisz1VArA+N9aExVkAVvJyCl5NWQH1orA+N9VZA5hS8nIJXV0BOwcspeLlXQLZt27ZtG1hAHxrrQ2N9WECIxvrQWN9YQPByCl5OQVlAWB8a60OjWUDByyl4OQVaQCl4OQUvZ1pAkiRJkiTJWkD70FgfGitbQGJ9aKwPjVtAyyl4OQXvW0A01ofG+lBcQJyCl1PwslxABS+n4OUUXUBu27Zt23ZdQNWHxvrQ2F1APjTWh8Y6XkCn4OUUvJxeQA+N9aGx/l5AeTkFL6dgX0Dg5RS8nMJfQCRJkiRJEmBAWR8a60NDYECN9aGxPnRgQMHLKXg5pWBA9qGxPjTWYEAqeDkFLwdhQF5OwcspOGFAkiRJkiRpYUDG+tBYH5phQPrQWB8ay2FAL6fg5RT8YUBjfWisDy1iQJdT8HIKXmJAzCl4OQWPYkAAAAAAAMBiQAAAAAAAwGJA",
                "path": [
                  "x",
                  "value"
                ],
                "encoding": "base64"
              },
              {
                "data": "AAAAAAAAAAAhAAAAAIizQCEAAAAAiLNAIQAAAACIs0AhAAAAAIizQCEAAAAAiLNAIQAAAACIs0AhAAAAAIizQCEAAAAAiLNAIQAAAACIs0AhAAAAAIizQCEAAAAAiLNAIQAAAACIs0AhAAAAAIizQCEAAAAAiLNAIQAAAACIs0AhAAAAAIizQCEAAAAAiLNAIQAAAACIs0AhAAAAAIizQCEAAAAAiLNAIQAAAACIs0AhAAAAAIizQCEAAAAAiLNAIQAAAACIs0AhAAAAAIizQCEAAAAAiLNAIQAAAACIs0AhAAAAAIizQCEAAAAAiLNAIQAAAACIs0AhAAAAAIizQCEAAAAAiLNAIQAAAACIs0AhAAAAAIizQCEAAAAAiLNAIQAAAACIs0AhAAAAAIizQCEAAAAAiLNAIQAAAACIs0AhAAAAAIizQCEAAAAAiLNAIQAAAACIs0AhAAAAAIizQCEAAAAAiLNAIQAAAACIs0AhAAAAAIizQCEAAAAAiLNAIQAAAACIs0AhAAAAAIizQCEAAAAAiLNA3/////+Hs8Df/////4ezwN//////h7PA3/////+Hs8Df/////4ezwN//////h7PA3/////+Hs8Df/////4ezwN//////h7PA3/////+Hs8Df/////4ezwN//////h7PA3/////+Hs8Df/////4ezwN//////h7PA3/////+Hs8Df/////4ezwN//////h7PA3/////+Hs8Df/////4ezwN//////h7PA3/////+Hs8Df/////4ezwN//////h7PA3/////+Hs8Df/////4ezwN//////h7PA3/////+Hs8Df/////4ezwN//////h7PA3/////+Hs8Df/////4ezwN//////h7PA3/////+Hs8Df/////4ezwN//////h7PA3/////+Hs8Df/////4ezwN//////h7PA3/////+Hs8Df/////4ezwN//////h7PA3/////+Hs8Df/////4ezwN//////h7PA3/////+Hs8Df/////4ezwN//////h7PA3/////+Hs8Df/////4ezwAAAAAAAAAAA",
                "path": [
                  "y",
                  "value"
                ],
                "encoding": "base64"
              }
            ]
          },
          "3cf0273d59e640108fe4efbda2881935": {
            "model_name": "LinearScaleModel",
            "model_module": "bqplot",
            "model_module_version": "^0.5",
            "state": {
              "_model_module_version": "^0.5",
              "_view_module_version": "^0.5",
              "stabilized": false
            }
          },
          "73dc50125ae049ba91da9c8fe03c8665": {
            "model_name": "LinearScaleModel",
            "model_module": "bqplot",
            "model_module_version": "^0.5",
            "state": {
              "_model_module_version": "^0.5",
              "_view_module_version": "^0.5",
              "stabilized": false
            }
          },
          "510eebfaf59d4b8789996de250bd792b": {
            "model_name": "LinesModel",
            "model_module": "bqplot",
            "model_module_version": "^0.5",
            "state": {
              "_model_module_version": "^0.5",
              "_view_module_version": "^0.5",
              "scales": {
                "x": "IPY_MODEL_3cf0273d59e640108fe4efbda2881935",
                "y": "IPY_MODEL_73dc50125ae049ba91da9c8fe03c8665"
              },
              "labels": [
                "C1"
              ],
              "x": {
                "dtype": "float64",
                "shape": [
                  11
                ],
                "type": null
              },
              "y": {
                "dtype": "float64",
                "shape": [
                  11
                ],
                "type": null
              },
              "colors": [
                "black"
              ],
              "fill_colors": [],
              "close_path": true,
              "fill": "inside",
              "opacities": [
                1
              ],
              "fill_opacities": [
                0.3
              ]
            },
            "buffers": [
              {
                "data": "AAAAAAAAAAAAAAAAAAAAAAAAAAAAwDJAAAAAAADAQkAAAAAAACBMQAAAAAAAwFJAAAAAAABwV0AAAAAAACBcQAAAAAAAaGBAAAAAAADAYkAAAAAAAMBiQA==",
                "path": [
                  "x",
                  "value"
                ],
                "encoding": "base64"
              },
              {
                "data": "AAAAAAAAAACw/////4ezQKz/////h7NAuP////+Hs0DA/////4ezQDAAAAAAiLPAJAAAAACIs8A4AAAAAIizwDgAAAAAiLPAOAAAAACIs8AAAAAAAAAAAA==",
                "path": [
                  "y",
                  "value"
                ],
                "encoding": "base64"
              }
            ]
          },
          "df85182a022c4dcf9fe0e2b7656ac11b": {
            "model_name": "ScatterModel",
            "model_module": "bqplot",
            "model_module_version": "^0.5",
            "state": {
              "_model_module_version": "^0.5",
              "_view_module_version": "^0.5",
              "scales": {
                "x": "IPY_MODEL_ab4c0913f15c439f8bc94dcc118ceb4b",
                "y": "IPY_MODEL_4a2957a6403e4f059c038d21ca6c0a2b"
              },
              "scales_metadata": {
                "x": {
                  "orientation": "horizontal",
                  "dimension": "x"
                },
                "y": {
                  "orientation": "vertical",
                  "dimension": "y"
                },
                "color": {
                  "dimension": "color"
                },
                "size": {
                  "dimension": "size"
                },
                "opacity": {
                  "dimension": "opacity"
                },
                "rotation": {
                  "dimension": "rotation"
                },
                "skew": {
                  "dimension": "skew"
                }
              },
              "x": {
                "dtype": "float64",
                "shape": [
                  1
                ],
                "type": null
              },
              "y": {
                "dtype": "float64",
                "shape": [
                  1
                ],
                "type": null
              },
              "label_display_horizontal_offset": 0,
              "label_display_vertical_offset": 0,
              "colors": [
                "black"
              ],
              "opacities": {
                "dtype": "int32",
                "shape": [
                  1
                ],
                "type": null
              },
              "marker": "square",
              "default_size": 250
            },
            "buffers": [
              {
                "data": "AAAAAADAUsA=",
                "path": [
                  "x",
                  "value"
                ],
                "encoding": "base64"
              },
              {
                "data": "AAAAAAAAOcA=",
                "path": [
                  "y",
                  "value"
                ],
                "encoding": "base64"
              },
              {
                "data": "AQAAAA==",
                "path": [
                  "opacities",
                  "value"
                ],
                "encoding": "base64"
              }
            ]
          },
          "d964b19eb7ee4f9ebbc177b54e04a203": {
            "model_name": "ScatterModel",
            "model_module": "bqplot",
            "model_module_version": "^0.5",
            "state": {
              "_model_module_version": "^0.5",
              "_view_module_version": "^0.5",
              "scales": {
                "x": "IPY_MODEL_ab4c0913f15c439f8bc94dcc118ceb4b",
                "y": "IPY_MODEL_4a2957a6403e4f059c038d21ca6c0a2b"
              },
              "scales_metadata": {
                "x": {
                  "orientation": "horizontal",
                  "dimension": "x"
                },
                "y": {
                  "orientation": "vertical",
                  "dimension": "y"
                },
                "color": {
                  "dimension": "color"
                },
                "size": {
                  "dimension": "size"
                },
                "opacity": {
                  "dimension": "opacity"
                },
                "rotation": {
                  "dimension": "rotation"
                },
                "skew": {
                  "dimension": "skew"
                }
              },
              "x": {
                "dtype": "float64",
                "shape": [
                  1
                ],
                "type": null
              },
              "y": {
                "dtype": "float64",
                "shape": [
                  1
                ],
                "type": null
              },
              "label_display_horizontal_offset": 0,
              "label_display_vertical_offset": 0,
              "colors": [
                "black"
              ],
              "opacities": {
                "dtype": "int32",
                "shape": [
                  1
                ],
                "type": null
              },
              "marker": "square",
              "default_size": 250
            },
            "buffers": [
              {
                "data": "AAAAAADAUkA=",
                "path": [
                  "x",
                  "value"
                ],
                "encoding": "base64"
              },
              {
                "data": "AAAAAAAAOcA=",
                "path": [
                  "y",
                  "value"
                ],
                "encoding": "base64"
              },
              {
                "data": "AQAAAA==",
                "path": [
                  "opacities",
                  "value"
                ],
                "encoding": "base64"
              }
            ]
          },
          "9980b88d55df400bb45f09e7cf00c34d": {
            "model_name": "ScatterModel",
            "model_module": "bqplot",
            "model_module_version": "^0.5",
            "state": {
              "_model_module_version": "^0.5",
              "_view_module_version": "^0.5",
              "scales": {
                "x": "IPY_MODEL_ab4c0913f15c439f8bc94dcc118ceb4b",
                "y": "IPY_MODEL_4a2957a6403e4f059c038d21ca6c0a2b"
              },
              "scales_metadata": {
                "x": {
                  "orientation": "horizontal",
                  "dimension": "x"
                },
                "y": {
                  "orientation": "vertical",
                  "dimension": "y"
                },
                "color": {
                  "dimension": "color"
                },
                "size": {
                  "dimension": "size"
                },
                "opacity": {
                  "dimension": "opacity"
                },
                "rotation": {
                  "dimension": "rotation"
                },
                "skew": {
                  "dimension": "skew"
                }
              },
              "x": {
                "dtype": "float64",
                "shape": [
                  1
                ],
                "type": null
              },
              "y": {
                "dtype": "float64",
                "shape": [
                  1
                ],
                "type": null
              },
              "label_display_horizontal_offset": 0,
              "label_display_vertical_offset": 0,
              "colors": [
                "black"
              ],
              "opacities": {
                "dtype": "int32",
                "shape": [
                  1
                ],
                "type": null
              },
              "marker": "triangle-down",
              "default_size": 100
            },
            "buffers": [
              {
                "data": "AAAAAAAAAAA=",
                "path": [
                  "x",
                  "value"
                ],
                "encoding": "base64"
              },
              {
                "data": "AAAAAAAAOUA=",
                "path": [
                  "y",
                  "value"
                ],
                "encoding": "base64"
              },
              {
                "data": "AQAAAA==",
                "path": [
                  "opacities",
                  "value"
                ],
                "encoding": "base64"
              }
            ]
          },
          "1a734d6b01aa4630b7fc324423de0fed": {
            "model_name": "ScatterModel",
            "model_module": "bqplot",
            "model_module_version": "^0.5",
            "state": {
              "_model_module_version": "^0.5",
              "_view_module_version": "^0.5",
              "scales": {
                "x": "IPY_MODEL_3cf0273d59e640108fe4efbda2881935",
                "y": "IPY_MODEL_73dc50125ae049ba91da9c8fe03c8665"
              },
              "scales_metadata": {
                "x": {
                  "orientation": "horizontal",
                  "dimension": "x"
                },
                "y": {
                  "orientation": "vertical",
                  "dimension": "y"
                },
                "color": {
                  "dimension": "color"
                },
                "size": {
                  "dimension": "size"
                },
                "opacity": {
                  "dimension": "opacity"
                },
                "rotation": {
                  "dimension": "rotation"
                },
                "skew": {
                  "dimension": "skew"
                }
              },
              "tooltip": "IPY_MODEL_699ef33f7e2e453eb32f2abf68789ee3",
              "x": {
                "dtype": "float64",
                "shape": [
                  9
                ],
                "type": null
              },
              "y": {
                "dtype": "float64",
                "shape": [
                  9
                ],
                "type": null
              },
              "label_display_horizontal_offset": 0,
              "label_display_vertical_offset": 0,
              "unhovered_style": {
                "opacity": 0.5
              },
              "colors": [
                "black"
              ],
              "opacities": {
                "dtype": "int32",
                "shape": [
                  1
                ],
                "type": null
              },
              "default_size": 50
            },
            "buffers": [
              {
                "data": "AAAAAAAAAAAAAAAAAMAyQAAAAAAAwEJAAAAAAAAgTEAAAAAAAMBSQAAAAAAAcFdAAAAAAAAgXEAAAAAAAGhgQAAAAAAAwGJA",
                "path": [
                  "x",
                  "value"
                ],
                "encoding": "base64"
              },
              {
                "data": "sP////+Hs0Cs/////4ezQLj/////h7NAwP////+Hs0AwAAAAAIizwCQAAAAAiLPAOAAAAACIs8A4AAAAAIizwDgAAAAAiLPA",
                "path": [
                  "y",
                  "value"
                ],
                "encoding": "base64"
              },
              {
                "data": "AQAAAA==",
                "path": [
                  "opacities",
                  "value"
                ],
                "encoding": "base64"
              }
            ]
          },
          "43b85bb26e77456b87ef45e30f566189": {
            "model_name": "AxisModel",
            "model_module": "bqplot",
            "model_module_version": "^0.5",
            "state": {
              "_model_module_version": "^0.5",
              "_view_module_version": "^0.5",
              "side": "bottom",
              "label": "Longitud (mm)",
              "grid_lines": "none",
              "tick_format": "0.0f",
              "tick_labels": {},
              "scale": "IPY_MODEL_ab4c0913f15c439f8bc94dcc118ceb4b",
              "label_color": "black",
              "color": "black",
              "label_offset": "-2em",
              "tick_style": {
                "stroke": "black"
              }
            }
          },
          "d6599b00e5c44e7fa1bf8f02d9da5505": {
            "model_name": "AxisModel",
            "model_module": "bqplot",
            "model_module_version": "^0.5",
            "state": {
              "_model_module_version": "^0.5",
              "_view_module_version": "^0.5",
              "orientation": "vertical",
              "side": "left",
              "label": "Diametro (mm)",
              "grid_lines": "none",
              "tick_format": "0.0f",
              "tick_labels": {},
              "scale": "IPY_MODEL_4a2957a6403e4f059c038d21ca6c0a2b",
              "label_color": "black",
              "color": "black",
              "label_offset": "-2em",
              "tick_style": {
                "stroke": "black"
              }
            }
          },
          "53f9b676fd1d4428af59281db9d8f343": {
            "model_name": "PanZoomModel",
            "model_module": "bqplot",
            "model_module_version": "^0.5",
            "state": {
              "_model_module_version": "^0.5",
              "_view_module_version": "^0.5",
              "scales": {
                "x": [
                  "IPY_MODEL_ab4c0913f15c439f8bc94dcc118ceb4b"
                ],
                "y": [
                  "IPY_MODEL_4a2957a6403e4f059c038d21ca6c0a2b"
                ]
              }
            }
          },
          "6410995d353849099bb7300f31ecd9ec": {
            "model_name": "LayoutModel",
            "model_module": "@jupyter-widgets/base",
            "model_module_version": "2.0.0",
            "state": {
              "height": "65%",
              "width": "auto"
            }
          },
          "edc99b289bc64b0f9215e772c8d655fc": {
            "model_name": "LinearScaleModel",
            "model_module": "bqplot",
            "model_module_version": "^0.5",
            "state": {
              "_model_module_version": "^0.5",
              "_view_module_version": "^0.5",
              "allow_padding": false,
              "min": 0,
              "max": 1,
              "stabilized": false
            }
          },
          "1fca20788c8e4bd0b7d85f22a6ae3890": {
            "model_name": "LinearScaleModel",
            "model_module": "bqplot",
            "model_module_version": "^0.5",
            "state": {
              "_model_module_version": "^0.5",
              "_view_module_version": "^0.5",
              "allow_padding": false,
              "min": 0,
              "max": 1,
              "stabilized": false
            }
          },
          "160e3a2b8c8848c18481059a59e025f8": {
            "model_name": "FigureModel",
            "model_module": "bqplot",
            "model_module_version": "^0.5",
            "state": {
              "_model_module_version": "^0.5",
              "_view_module_version": "^0.5",
              "title": "Esquema del eje a analizar",
              "axes": [
                "IPY_MODEL_43b85bb26e77456b87ef45e30f566189",
                "IPY_MODEL_d6599b00e5c44e7fa1bf8f02d9da5505"
              ],
              "marks": [
                "IPY_MODEL_ca7dae5575e7466ab80a3f02e0781c81",
                "IPY_MODEL_956b96de3cdc4cea96045a18afb41efb",
                "IPY_MODEL_df85182a022c4dcf9fe0e2b7656ac11b",
                "IPY_MODEL_d964b19eb7ee4f9ebbc177b54e04a203",
                "IPY_MODEL_9980b88d55df400bb45f09e7cf00c34d"
              ],
              "interaction": "IPY_MODEL_53f9b676fd1d4428af59281db9d8f343",
              "scale_x": "IPY_MODEL_edc99b289bc64b0f9215e772c8d655fc",
              "scale_y": "IPY_MODEL_1fca20788c8e4bd0b7d85f22a6ae3890",
              "title_style": {
                "font-size": "15px",
                "fill": "black"
              },
              "fig_margin": {
                "left": 50,
                "top": 20,
                "bottom": 30,
                "right": 30
              },
              "layout": "IPY_MODEL_6410995d353849099bb7300f31ecd9ec"
            }
          },
          "1f588a5e05ee4440b865975496a60d49": {
            "model_name": "AxisModel",
            "model_module": "bqplot",
            "model_module_version": "^0.5",
            "state": {
              "_model_module_version": "^0.5",
              "_view_module_version": "^0.5",
              "side": "bottom",
              "label": "Longitud (mm)",
              "grid_lines": "dashed",
              "tick_format": "0.0f",
              "tick_labels": {},
              "scale": "IPY_MODEL_14869c0bc10e4dc08104a2afe90fb734",
              "label_color": "black",
              "color": "black",
              "label_offset": "-1em",
              "tick_style": {
                "stroke": "black"
              }
            }
          },
          "61266830ca574009ae4067d1765c47d3": {
            "model_name": "AxisModel",
            "model_module": "bqplot",
            "model_module_version": "^0.5",
            "state": {
              "_model_module_version": "^0.5",
              "_view_module_version": "^0.5",
              "orientation": "vertical",
              "side": "left",
              "label": "Cortantes (N)",
              "grid_lines": "dashed",
              "tick_format": "0.0f",
              "tick_labels": {},
              "scale": "IPY_MODEL_d12a9fd934c04e8daf68b05b907e47ca",
              "label_color": "black",
              "color": "black",
              "label_offset": "-1em",
              "tick_style": {
                "stroke": "black"
              }
            }
          },
          "dc868a44f5a04ddb99514a729034b533": {
            "model_name": "LayoutModel",
            "model_module": "@jupyter-widgets/base",
            "model_module_version": "2.0.0",
            "state": {
              "height": "100%",
              "width": "auto"
            }
          },
          "1c07163fafde46dfa5931acc390fd5c7": {
            "model_name": "LinearScaleModel",
            "model_module": "bqplot",
            "model_module_version": "^0.5",
            "state": {
              "_model_module_version": "^0.5",
              "_view_module_version": "^0.5",
              "allow_padding": false,
              "min": 0,
              "max": 1,
              "stabilized": false
            }
          },
          "58ddce122fc741429680f00762980db8": {
            "model_name": "LinearScaleModel",
            "model_module": "bqplot",
            "model_module_version": "^0.5",
            "state": {
              "_model_module_version": "^0.5",
              "_view_module_version": "^0.5",
              "allow_padding": false,
              "min": 0,
              "max": 1,
              "stabilized": false
            }
          },
          "f005f0eb357e44a7a3bf16c085834072": {
            "model_name": "FigureModel",
            "model_module": "bqplot",
            "model_module_version": "^0.5",
            "state": {
              "_model_module_version": "^0.5",
              "_view_module_version": "^0.5",
              "axes": [
                "IPY_MODEL_1f588a5e05ee4440b865975496a60d49",
                "IPY_MODEL_61266830ca574009ae4067d1765c47d3"
              ],
              "marks": [
                "IPY_MODEL_a1e0bfb28d7b4fb7818d90f1f6b860de"
              ],
              "scale_x": "IPY_MODEL_1c07163fafde46dfa5931acc390fd5c7",
              "scale_y": "IPY_MODEL_58ddce122fc741429680f00762980db8",
              "fig_margin": {
                "left": 50,
                "top": 20,
                "bottom": 30,
                "right": 30
              },
              "layout": "IPY_MODEL_dc868a44f5a04ddb99514a729034b533"
            }
          },
          "c808e72539d445978fc81076c95e71d1": {
            "model_name": "AxisModel",
            "model_module": "bqplot",
            "model_module_version": "^0.5",
            "state": {
              "_model_module_version": "^0.5",
              "_view_module_version": "^0.5",
              "side": "bottom",
              "label": "Longitud (mm)",
              "grid_lines": "dashed",
              "tick_format": "0.0f",
              "tick_labels": {},
              "scale": "IPY_MODEL_3cf0273d59e640108fe4efbda2881935",
              "label_color": "black",
              "color": "black",
              "label_offset": "-1em",
              "tick_style": {
                "stroke": "black"
              }
            }
          },
          "2a2b06dfa3a841ec8a9b118cff1b17ee": {
            "model_name": "AxisModel",
            "model_module": "bqplot",
            "model_module_version": "^0.5",
            "state": {
              "_model_module_version": "^0.5",
              "_view_module_version": "^0.5",
              "orientation": "vertical",
              "side": "left",
              "label": "Cortantes (N)",
              "grid_lines": "dashed",
              "tick_format": "0.0f",
              "tick_labels": {},
              "scale": "IPY_MODEL_73dc50125ae049ba91da9c8fe03c8665",
              "label_color": "black",
              "color": "black",
              "label_offset": "-1em",
              "tick_style": {
                "stroke": "black"
              }
            }
          },
          "5ff2df1a38454cf4a410d0df8bcb9e59": {
            "model_name": "LayoutModel",
            "model_module": "@jupyter-widgets/base",
            "model_module_version": "2.0.0",
            "state": {
              "height": "100%",
              "width": "auto"
            }
          },
          "f119d624c99542e38254d61494863277": {
            "model_name": "LinearScaleModel",
            "model_module": "bqplot",
            "model_module_version": "^0.5",
            "state": {
              "_model_module_version": "^0.5",
              "_view_module_version": "^0.5",
              "allow_padding": false,
              "min": 0,
              "max": 1,
              "stabilized": false
            }
          },
          "b40b33f419e34cd88107dd8f32a29543": {
            "model_name": "LinearScaleModel",
            "model_module": "bqplot",
            "model_module_version": "^0.5",
            "state": {
              "_model_module_version": "^0.5",
              "_view_module_version": "^0.5",
              "allow_padding": false,
              "min": 0,
              "max": 1,
              "stabilized": false
            }
          },
          "b2330542ff8848c7a796439eb469c02a": {
            "model_name": "FigureModel",
            "model_module": "bqplot",
            "model_module_version": "^0.5",
            "state": {
              "_model_module_version": "^0.5",
              "_view_module_version": "^0.5",
              "axes": [
                "IPY_MODEL_c808e72539d445978fc81076c95e71d1",
                "IPY_MODEL_2a2b06dfa3a841ec8a9b118cff1b17ee"
              ],
              "marks": [
                "IPY_MODEL_510eebfaf59d4b8789996de250bd792b",
                "IPY_MODEL_1a734d6b01aa4630b7fc324423de0fed"
              ],
              "scale_x": "IPY_MODEL_f119d624c99542e38254d61494863277",
              "scale_y": "IPY_MODEL_b40b33f419e34cd88107dd8f32a29543",
              "fig_margin": {
                "left": 50,
                "top": 20,
                "bottom": 30,
                "right": 30
              },
              "layout": "IPY_MODEL_5ff2df1a38454cf4a410d0df8bcb9e59"
            }
          },
          "d0f7c8cd158a420d8ae9aef4a0f89a63": {
            "model_name": "LayoutModel",
            "model_module": "@jupyter-widgets/base",
            "model_module_version": "2.0.0",
            "state": {
              "border_top": "0px",
              "border_right": "0px",
              "border_bottom": "0px",
              "border_left": "0px",
              "height": "auto",
              "justify_content": "space-around",
              "margin": "0px",
              "padding": "0px",
              "width": "auto"
            }
          },
          "c34afaa192164294b5846c0f9e01101f": {
            "model_name": "HBoxModel",
            "model_module": "@jupyter-widgets/controls",
            "model_module_version": "2.0.0",
            "state": {
              "children": [
                "IPY_MODEL_33d7c19960194f049966aa945ddf0722",
                "IPY_MODEL_8a0a460efc9d4e398e2822db3567c301",
                "IPY_MODEL_aa46a9e2c8ef4cc28c28a1926d563c6f",
                "IPY_MODEL_ec54f051ff9c4b76acf2f596fe475eea"
              ],
              "layout": "IPY_MODEL_d0f7c8cd158a420d8ae9aef4a0f89a63"
            }
          },
          "f961794e4cf54272a2691fc1610820e5": {
            "model_name": "LayoutModel",
            "model_module": "@jupyter-widgets/base",
            "model_module_version": "2.0.0",
            "state": {
              "border_top": "0px",
              "border_right": "0px",
              "border_bottom": "0px",
              "border_left": "0px",
              "height": "auto",
              "justify_content": "space-around",
              "margin": "0px",
              "padding": "0px",
              "width": "auto"
            }
          },
          "57a4415e9de94a0c8e32fbcfe1305686": {
            "model_name": "VBoxModel",
            "model_module": "@jupyter-widgets/controls",
            "model_module_version": "2.0.0",
            "state": {
              "children": [
                "IPY_MODEL_c34afaa192164294b5846c0f9e01101f",
                "IPY_MODEL_160e3a2b8c8848c18481059a59e025f8",
                "IPY_MODEL_fc083821c2264c75bfca3f9b8d84932e"
              ],
              "layout": "IPY_MODEL_f961794e4cf54272a2691fc1610820e5"
            }
          },
          "90514c073eb94e9997f99f8cad7ea29c": {
            "model_name": "LayoutModel",
            "model_module": "@jupyter-widgets/base",
            "model_module_version": "2.0.0",
            "state": {
              "border_top": "0px",
              "border_right": "0px",
              "border_bottom": "0px",
              "border_left": "0px",
              "height": "auto",
              "justify_content": "flex-start",
              "margin": "0px",
              "padding": "0px",
              "width": "auto"
            }
          },
          "19333199e07b43c48b6f000628e31368": {
            "model_name": "VBoxModel",
            "model_module": "@jupyter-widgets/controls",
            "model_module_version": "2.0.0",
            "state": {
              "children": [
                "IPY_MODEL_3486b304dfac41d2a6af7084745aad78",
                "IPY_MODEL_d2a540f55f8d4e67a81b0eca17f51ffb",
                "IPY_MODEL_4453eef9880d44db8f609c314298a524",
                "IPY_MODEL_0f589911f980464b8e02c248dac00dab",
                "IPY_MODEL_ff4d6b79ff554a85983054e4f43fa1f6",
                "IPY_MODEL_0f8b5e7de61f43a797f81e9e39dfeebf",
                "IPY_MODEL_426cf7bd727b4fde88d350a62b26889f",
                "IPY_MODEL_37c59f4b1ba0402d901dde1988d57cb7",
                "IPY_MODEL_ea258810fad24701a92340e1b5a3bbda",
                "IPY_MODEL_1b9da3c9fc6a40fbb3c15a29e2eb2014",
                "IPY_MODEL_6a3b9a3a4aca4b6d8ea8eacae325fc73",
                "IPY_MODEL_eeb98eac5b864bd28c07ff0ace25e3e7"
              ],
              "layout": "IPY_MODEL_90514c073eb94e9997f99f8cad7ea29c"
            }
          },
          "991e020eda274031951e17de63de3bcc": {
            "model_name": "LayoutModel",
            "model_module": "@jupyter-widgets/base",
            "model_module_version": "2.0.0",
            "state": {
              "border_top": "0px",
              "border_right": "0px",
              "border_bottom": "0px",
              "border_left": "0px",
              "height": "100%",
              "justify_content": "center",
              "margin": "0px",
              "padding": "0px",
              "width": "100%"
            }
          },
          "d4e008c8f1f64d5d9f1fe2de4ad9ac22": {
            "model_name": "HBoxModel",
            "model_module": "@jupyter-widgets/controls",
            "model_module_version": "2.0.0",
            "state": {
              "children": [
                "IPY_MODEL_19333199e07b43c48b6f000628e31368",
                "IPY_MODEL_57a4415e9de94a0c8e32fbcfe1305686"
              ],
              "layout": "IPY_MODEL_991e020eda274031951e17de63de3bcc"
            }
          },
          "705d29ee57534d0c8463282084992de0": {
            "model_name": "LayoutModel",
            "model_module": "@jupyter-widgets/base",
            "model_module_version": "2.0.0",
            "state": {}
          },
          "aabce66a0bcd4a278ca4baa4c9441aa9": {
            "model_name": "HTMLStyleModel",
            "model_module": "@jupyter-widgets/controls",
            "model_module_version": "2.0.0",
            "state": {
              "description_width": ""
            }
          },
          "95f4fa09fd00499789f8177e2878af5f": {
            "model_name": "HTMLModel",
            "model_module": "@jupyter-widgets/controls",
            "model_module_version": "2.0.0",
            "state": {
              "value": "<div style=\"border-bottom: 1.5px dashed #000;\"></div>",
              "layout": "IPY_MODEL_705d29ee57534d0c8463282084992de0",
              "style": "IPY_MODEL_aabce66a0bcd4a278ca4baa4c9441aa9"
            }
          },
          "5fcfa2e8bba144d9985421ac708fe06f": {
            "model_name": "LayoutModel",
            "model_module": "@jupyter-widgets/base",
            "model_module_version": "2.0.0",
            "state": {
              "border_top": "0px",
              "border_right": "0px",
              "border_bottom": "0px",
              "border_left": "0px",
              "margin": "0px",
              "padding": "0px"
            }
          },
          "cef4662586ca4da78db3e3743b87699a": {
            "model_name": "HTMLMathStyleModel",
            "model_module": "@jupyter-widgets/controls",
            "model_module_version": "2.0.0",
            "state": {
              "description_width": ""
            }
          },
          "5dab63fbed6e46ccb7ab797f01bde5be": {
            "model_name": "HTMLMathModel",
            "model_module": "@jupyter-widgets/controls",
            "model_module_version": "2.0.0",
            "state": {
              "value": "$- m_{1} + r_{1} x$",
              "layout": "IPY_MODEL_5fcfa2e8bba144d9985421ac708fe06f",
              "style": "IPY_MODEL_cef4662586ca4da78db3e3743b87699a"
            }
          },
          "150283edc378406286a743650af21c9e": {
            "model_name": "LayoutModel",
            "model_module": "@jupyter-widgets/base",
            "model_module_version": "2.0.0",
            "state": {
              "border_top": "0px",
              "border_right": "0px",
              "border_bottom": "0px",
              "border_left": "0px",
              "margin": "0px",
              "padding": "0px"
            }
          },
          "4e103973d74840679f51040d4303f3aa": {
            "model_name": "HTMLMathStyleModel",
            "model_module": "@jupyter-widgets/controls",
            "model_module_version": "2.0.0",
            "state": {
              "description_width": ""
            }
          },
          "28c20ffba21a4498b4b0665985b47a8d": {
            "model_name": "HTMLMathModel",
            "model_module": "@jupyter-widgets/controls",
            "model_module_version": "2.0.0",
            "state": {
              "value": "$c_{1} x + c_{2} - \\frac{m_{1} x^{2}}{2} + \\frac{r_{1} x^{3}}{6}$",
              "layout": "IPY_MODEL_150283edc378406286a743650af21c9e",
              "style": "IPY_MODEL_4e103973d74840679f51040d4303f3aa"
            }
          },
          "59ca1d997ed84fbf94ff67550829abef": {
            "model_name": "LayoutModel",
            "model_module": "@jupyter-widgets/base",
            "model_module_version": "2.0.0",
            "state": {
              "border_top": "0px",
              "border_right": "0px",
              "border_bottom": "0px",
              "border_left": "0px",
              "margin": "0px",
              "padding": "0px"
            }
          },
          "b866503aebbe485a85056f14c8e88250": {
            "model_name": "HTMLMathStyleModel",
            "model_module": "@jupyter-widgets/controls",
            "model_module_version": "2.0.0",
            "state": {
              "description_width": ""
            }
          },
          "7fef72b161d64f3384b8440a0a7a7be8": {
            "model_name": "HTMLMathModel",
            "model_module": "@jupyter-widgets/controls",
            "model_module_version": "2.0.0",
            "state": {
              "value": "$\\left( r_{1} + r_{2} - 10000.0, \\  m_{1} + m_{2} + 0.15 r_{2} - 750.0, \\  - 1.57463441281257 \\cdot 10^{-5} c_{1} + 1.57463441281257 \\cdot 10^{-5} c_{3} + 0.000442865928603535, \\  - 1.18097580960943 \\cdot 10^{-6} c_{1} - 1.57463441281257 \\cdot 10^{-5} c_{2} + 1.18097580960943 \\cdot 10^{-6} c_{3} + 1.57463441281257 \\cdot 10^{-5} c_{4} + 2.21432964301767 \\cdot 10^{-5}, \\  c_{2}, \\  0.15 c_{3} + c_{4} - 0.01125 m_{1} + 0.0005625 r_{1} + 2.8125, \\  c_{1}, \\  c_{3} - 0.15 m_{1} + 0.01125 r_{1}\\right)$",
              "layout": "IPY_MODEL_59ca1d997ed84fbf94ff67550829abef",
              "style": "IPY_MODEL_b866503aebbe485a85056f14c8e88250"
            }
          },
          "1c8e911921d54e6daa850d4298694946": {
            "model_name": "LayoutModel",
            "model_module": "@jupyter-widgets/base",
            "model_module_version": "2.0.0",
            "state": {
              "border_top": "0px",
              "border_right": "0px",
              "border_bottom": "0px",
              "border_left": "0px",
              "margin": "0px",
              "padding": "0px"
            }
          },
          "0bbec47c024d48ef925cb67c0df410b7": {
            "model_name": "HTMLMathStyleModel",
            "model_module": "@jupyter-widgets/controls",
            "model_module_version": "2.0.0",
            "state": {
              "description_width": ""
            }
          },
          "4dfa497ca98046f2a33de8d83ff78632": {
            "model_name": "HTMLMathModel",
            "model_module": "@jupyter-widgets/controls",
            "model_module_version": "2.0.0",
            "state": {
              "value": "$\\left\\{ c_{1} : 0.0, \\  c_{2} : 0.0, \\  c_{3} : -28.125, \\  c_{4} : 0.703125000000007, \\  m_{1} : 187.500000000002, \\  m_{2} : -187.499999999998, \\  r_{1} : 5000.00000000003, \\  r_{2} : 4999.99999999997\\right\\}$",
              "layout": "IPY_MODEL_1c8e911921d54e6daa850d4298694946",
              "style": "IPY_MODEL_0bbec47c024d48ef925cb67c0df410b7"
            }
          },
          "7bbad493123f4eccb3a4797e4bc54616": {
            "model_name": "LayoutModel",
            "model_module": "@jupyter-widgets/base",
            "model_module_version": "2.0.0",
            "state": {
              "border_top": "0px",
              "border_right": "0px",
              "border_bottom": "0px",
              "border_left": "0px",
              "margin": "0px",
              "padding": "0px"
            }
          },
          "d4502e6392ee4c98ab54d4f2c444e2ef": {
            "model_name": "HTMLMathStyleModel",
            "model_module": "@jupyter-widgets/controls",
            "model_module_version": "2.0.0",
            "state": {
              "description_width": ""
            }
          },
          "94f3db5f8fe14696b49b17bedd2b1bf0": {
            "model_name": "HTMLMathModel",
            "model_module": "@jupyter-widgets/controls",
            "model_module_version": "2.0.0",
            "state": {
              "value": "$0.0131219534401048 x^{3} - 0.0014762197620118 x^{2}$",
              "layout": "IPY_MODEL_7bbad493123f4eccb3a4797e4bc54616",
              "style": "IPY_MODEL_d4502e6392ee4c98ab54d4f2c444e2ef"
            }
          },
          "3bfe28423d4b4c2bb81d0e3bbccb4aef": {
            "model_name": "LayoutModel",
            "model_module": "@jupyter-widgets/base",
            "model_module_version": "2.0.0",
            "state": {
              "border_top": "0px",
              "border_right": "0px",
              "border_bottom": "0px",
              "border_left": "0px",
              "margin": "0px",
              "padding": "0px"
            }
          },
          "ad00d2469129441e8bf9464bfcd4d52d": {
            "model_name": "HTMLMathStyleModel",
            "model_module": "@jupyter-widgets/controls",
            "model_module_version": "2.0.0",
            "state": {
              "description_width": ""
            }
          },
          "8a22c64c25e64ed999a3be0fa8c3b677": {
            "model_name": "HTMLMathModel",
            "model_module": "@jupyter-widgets/controls",
            "model_module_version": "2.0.0",
            "state": {
              "value": "$5000.00000000003 x - 187.500000000002$",
              "layout": "IPY_MODEL_3bfe28423d4b4c2bb81d0e3bbccb4aef",
              "style": "IPY_MODEL_ad00d2469129441e8bf9464bfcd4d52d"
            }
          },
          "83af2864330343f4a13078f15eb69da3": {
            "model_name": "LayoutModel",
            "model_module": "@jupyter-widgets/base",
            "model_module_version": "2.0.0",
            "state": {
              "border_top": "0px",
              "border_right": "0px",
              "border_bottom": "0px",
              "border_left": "0px",
              "margin": "0px",
              "padding": "0px"
            }
          },
          "d7ef78459256424a89394401d0f052b7": {
            "model_name": "HTMLMathStyleModel",
            "model_module": "@jupyter-widgets/controls",
            "model_module_version": "2.0.0",
            "state": {
              "description_width": ""
            }
          },
          "edaa66fea8b6442c8de387a2c76b099c": {
            "model_name": "HTMLMathModel",
            "model_module": "@jupyter-widgets/controls",
            "model_module_version": "2.0.0",
            "state": {
              "value": "$r_{1}$",
              "layout": "IPY_MODEL_83af2864330343f4a13078f15eb69da3",
              "style": "IPY_MODEL_d7ef78459256424a89394401d0f052b7"
            }
          },
          "884e29f5e0d143a6b77db325a40c0b5d": {
            "model_name": "LayoutModel",
            "model_module": "@jupyter-widgets/base",
            "model_module_version": "2.0.0",
            "state": {
              "border_top": "0px",
              "border_right": "0px",
              "border_bottom": "0px",
              "border_left": "0px",
              "margin": "0px",
              "padding": "0px"
            }
          },
          "118323368bd845dd94d44818430ba434": {
            "model_name": "HTMLMathStyleModel",
            "model_module": "@jupyter-widgets/controls",
            "model_module_version": "2.0.0",
            "state": {
              "description_width": ""
            }
          },
          "e9610ca773fa4530942cb7acf2e15e03": {
            "model_name": "HTMLMathModel",
            "model_module": "@jupyter-widgets/controls",
            "model_module_version": "2.0.0",
            "state": {
              "value": "$c_{1} - m_{1} x + \\frac{r_{1} x^{2}}{2}$",
              "layout": "IPY_MODEL_884e29f5e0d143a6b77db325a40c0b5d",
              "style": "IPY_MODEL_118323368bd845dd94d44818430ba434"
            }
          },
          "9a5d5acc00b74687a849fa1dfce0953b": {
            "model_name": "LayoutModel",
            "model_module": "@jupyter-widgets/base",
            "model_module_version": "2.0.0",
            "state": {
              "border_top": "0px",
              "border_right": "0px",
              "border_bottom": "0px",
              "border_left": "0px",
              "margin": "0px",
              "padding": "0px"
            }
          },
          "ad44f5919d304ca19c606b68c5ba4999": {
            "model_name": "HTMLMathStyleModel",
            "model_module": "@jupyter-widgets/controls",
            "model_module_version": "2.0.0",
            "state": {
              "description_width": ""
            }
          },
          "d72e5a3f6ecb46288121e7eebf01a455": {
            "model_name": "HTMLMathModel",
            "model_module": "@jupyter-widgets/controls",
            "model_module_version": "2.0.0",
            "state": {
              "value": "$0.0393658603203144 x^{2} - 0.0029524395240236 x$",
              "layout": "IPY_MODEL_9a5d5acc00b74687a849fa1dfce0953b",
              "style": "IPY_MODEL_ad44f5919d304ca19c606b68c5ba4999"
            }
          },
          "4bf2c1e0d5594a88a8320020738bd6de": {
            "model_name": "LayoutModel",
            "model_module": "@jupyter-widgets/base",
            "model_module_version": "2.0.0",
            "state": {
              "border_top": "0px",
              "border_right": "0px",
              "border_bottom": "0px",
              "border_left": "0px",
              "margin": "0px",
              "padding": "0px"
            }
          },
          "0dc71171d2e04a699c30d22d559e4fd7": {
            "model_name": "HTMLMathStyleModel",
            "model_module": "@jupyter-widgets/controls",
            "model_module_version": "2.0.0",
            "state": {
              "description_width": ""
            }
          },
          "e03e2c28e69a455a954da7b7dc16c8e7": {
            "model_name": "HTMLMathModel",
            "model_module": "@jupyter-widgets/controls",
            "model_module_version": "2.0.0",
            "state": {
              "value": "$5000.00000000003$",
              "layout": "IPY_MODEL_4bf2c1e0d5594a88a8320020738bd6de",
              "style": "IPY_MODEL_0dc71171d2e04a699c30d22d559e4fd7"
            }
          },
          "32194eb2bd0d45d3a8b6e15c94bbd3c9": {
            "model_name": "LayoutModel",
            "model_module": "@jupyter-widgets/base",
            "model_module_version": "2.0.0",
            "state": {}
          },
          "16218278a6a9418ab720354196921f5c": {
            "model_name": "HTMLMathStyleModel",
            "model_module": "@jupyter-widgets/controls",
            "model_module_version": "2.0.0",
            "state": {
              "description_width": ""
            }
          },
          "cfe6cfa892ce44a48ed192acd5880e25": {
            "model_name": "HTMLMathModel",
            "model_module": "@jupyter-widgets/controls",
            "model_module_version": "2.0.0",
            "state": {
              "value": "<font size = '3', font color = 'black', font face = 'Times New Roman'>Ecuacion de cortantes:",
              "layout": "IPY_MODEL_32194eb2bd0d45d3a8b6e15c94bbd3c9",
              "style": "IPY_MODEL_16218278a6a9418ab720354196921f5c"
            }
          },
          "6ccd010c5e154e4f82819d77061d7f6a": {
            "model_name": "LayoutModel",
            "model_module": "@jupyter-widgets/base",
            "model_module_version": "2.0.0",
            "state": {}
          },
          "87007b531bc84a90b80de0b4efadaba9": {
            "model_name": "HTMLMathStyleModel",
            "model_module": "@jupyter-widgets/controls",
            "model_module_version": "2.0.0",
            "state": {
              "description_width": ""
            }
          },
          "8ba6eeeba5c24ca49fe9bf61fadc580d": {
            "model_name": "HTMLMathModel",
            "model_module": "@jupyter-widgets/controls",
            "model_module_version": "2.0.0",
            "state": {
              "value": "<font size = '3', font color = 'black', font face = 'Times New Roman'>Ecuacion de momentos:",
              "layout": "IPY_MODEL_6ccd010c5e154e4f82819d77061d7f6a",
              "style": "IPY_MODEL_87007b531bc84a90b80de0b4efadaba9"
            }
          },
          "7beb617a438749ffac73379ae2729436": {
            "model_name": "LayoutModel",
            "model_module": "@jupyter-widgets/base",
            "model_module_version": "2.0.0",
            "state": {}
          },
          "89adc31acf6c4200853324c6b6728420": {
            "model_name": "HTMLMathStyleModel",
            "model_module": "@jupyter-widgets/controls",
            "model_module_version": "2.0.0",
            "state": {
              "description_width": ""
            }
          },
          "53c0f42131834462ad8c5ed53cbd2e2a": {
            "model_name": "HTMLMathModel",
            "model_module": "@jupyter-widgets/controls",
            "model_module_version": "2.0.0",
            "state": {
              "value": "<font size = '3', font color = 'black', font face = 'Times New Roman'>Ecuacion de pendientes:",
              "layout": "IPY_MODEL_7beb617a438749ffac73379ae2729436",
              "style": "IPY_MODEL_89adc31acf6c4200853324c6b6728420"
            }
          },
          "a3206e8b6ccd4b6b99056bb2b7ba56a9": {
            "model_name": "LayoutModel",
            "model_module": "@jupyter-widgets/base",
            "model_module_version": "2.0.0",
            "state": {}
          },
          "693960d90dbf4b819ed397477331b1a8": {
            "model_name": "HTMLMathStyleModel",
            "model_module": "@jupyter-widgets/controls",
            "model_module_version": "2.0.0",
            "state": {
              "description_width": ""
            }
          },
          "4c1ebac5941c4768b6633f4a15c61785": {
            "model_name": "HTMLMathModel",
            "model_module": "@jupyter-widgets/controls",
            "model_module_version": "2.0.0",
            "state": {
              "value": "<font size = '3', font color = 'black', font face = 'Times New Roman'>Ecuacion de deflexiones:",
              "layout": "IPY_MODEL_a3206e8b6ccd4b6b99056bb2b7ba56a9",
              "style": "IPY_MODEL_693960d90dbf4b819ed397477331b1a8"
            }
          },
          "b13865fba5c04d2ab5c2948e47d3e9f9": {
            "model_name": "LayoutModel",
            "model_module": "@jupyter-widgets/base",
            "model_module_version": "2.0.0",
            "state": {}
          },
          "b22d76519de54c24b57573342deb948a": {
            "model_name": "HTMLMathStyleModel",
            "model_module": "@jupyter-widgets/controls",
            "model_module_version": "2.0.0",
            "state": {
              "description_width": ""
            }
          },
          "796fd5796f244d279e999fe4afaa5ffa": {
            "model_name": "HTMLMathModel",
            "model_module": "@jupyter-widgets/controls",
            "model_module_version": "2.0.0",
            "state": {
              "value": "<font size = '3', font color = 'black', font face = 'Times New Roman'>Sistema de ecuaciones:",
              "layout": "IPY_MODEL_b13865fba5c04d2ab5c2948e47d3e9f9",
              "style": "IPY_MODEL_b22d76519de54c24b57573342deb948a"
            }
          },
          "83ab43a70923420aa5654a63b14fa2a5": {
            "model_name": "LayoutModel",
            "model_module": "@jupyter-widgets/base",
            "model_module_version": "2.0.0",
            "state": {}
          },
          "0e9847f6fddc4856948c03da969b0064": {
            "model_name": "HTMLMathStyleModel",
            "model_module": "@jupyter-widgets/controls",
            "model_module_version": "2.0.0",
            "state": {
              "description_width": ""
            }
          },
          "4b6c525c64de4d1fa55486125731c5f4": {
            "model_name": "HTMLMathModel",
            "model_module": "@jupyter-widgets/controls",
            "model_module_version": "2.0.0",
            "state": {
              "value": "<font size = '3', font color = 'black', font face = 'Times New Roman'>Resultados:",
              "layout": "IPY_MODEL_83ab43a70923420aa5654a63b14fa2a5",
              "style": "IPY_MODEL_0e9847f6fddc4856948c03da969b0064"
            }
          },
          "9522b2cd400f4cb699f62a6c32c3b332": {
            "model_name": "LayoutModel",
            "model_module": "@jupyter-widgets/base",
            "model_module_version": "2.0.0",
            "state": {}
          },
          "9c150fefbbd24a6a89ec3ec259338dec": {
            "model_name": "HTMLMathStyleModel",
            "model_module": "@jupyter-widgets/controls",
            "model_module_version": "2.0.0",
            "state": {
              "description_width": ""
            }
          },
          "63ee9ed9b9034f6e91cce24bc61d5f0d": {
            "model_name": "HTMLMathModel",
            "model_module": "@jupyter-widgets/controls",
            "model_module_version": "2.0.0",
            "state": {
              "value": "<font size = '3', font color = 'black', font face = 'Times New Roman'>Ecuacion de deflexiones:",
              "layout": "IPY_MODEL_9522b2cd400f4cb699f62a6c32c3b332",
              "style": "IPY_MODEL_9c150fefbbd24a6a89ec3ec259338dec"
            }
          },
          "c6045d2bd31b4578b5ab171e9bbf3653": {
            "model_name": "LayoutModel",
            "model_module": "@jupyter-widgets/base",
            "model_module_version": "2.0.0",
            "state": {}
          },
          "28df4c248a3440d3b9ce189b32cae133": {
            "model_name": "HTMLMathStyleModel",
            "model_module": "@jupyter-widgets/controls",
            "model_module_version": "2.0.0",
            "state": {
              "description_width": ""
            }
          },
          "de07658de2a54d388d517baaa7eebc3f": {
            "model_name": "HTMLMathModel",
            "model_module": "@jupyter-widgets/controls",
            "model_module_version": "2.0.0",
            "state": {
              "value": "<font size = '3', font color = 'black', font face = 'Times New Roman'>Ecuacion de pendientes:",
              "layout": "IPY_MODEL_c6045d2bd31b4578b5ab171e9bbf3653",
              "style": "IPY_MODEL_28df4c248a3440d3b9ce189b32cae133"
            }
          },
          "e7b6641b066f49ae9afab6a11a1defd3": {
            "model_name": "LayoutModel",
            "model_module": "@jupyter-widgets/base",
            "model_module_version": "2.0.0",
            "state": {}
          },
          "fdc1b0c6ab354cf7b00231496b0df963": {
            "model_name": "HTMLMathStyleModel",
            "model_module": "@jupyter-widgets/controls",
            "model_module_version": "2.0.0",
            "state": {
              "description_width": ""
            }
          },
          "2db7b5d17f82428eafce3d47d1d5d586": {
            "model_name": "HTMLMathModel",
            "model_module": "@jupyter-widgets/controls",
            "model_module_version": "2.0.0",
            "state": {
              "value": "<font size = '3', font color = 'black', font face = 'Times New Roman'>Ecuacion de momentos:",
              "layout": "IPY_MODEL_e7b6641b066f49ae9afab6a11a1defd3",
              "style": "IPY_MODEL_fdc1b0c6ab354cf7b00231496b0df963"
            }
          },
          "e1eb697e63b34cf99c9326c083aa2de1": {
            "model_name": "LayoutModel",
            "model_module": "@jupyter-widgets/base",
            "model_module_version": "2.0.0",
            "state": {}
          },
          "7f45db182cf748b298ee213bd512ee0b": {
            "model_name": "HTMLMathStyleModel",
            "model_module": "@jupyter-widgets/controls",
            "model_module_version": "2.0.0",
            "state": {
              "description_width": ""
            }
          },
          "6af6eb7baeb34ad99d8cd873b53dc3dc": {
            "model_name": "HTMLMathModel",
            "model_module": "@jupyter-widgets/controls",
            "model_module_version": "2.0.0",
            "state": {
              "value": "<font size = '3', font color = 'black', font face = 'Times New Roman'>Ecuacion de cortantes:",
              "layout": "IPY_MODEL_e1eb697e63b34cf99c9326c083aa2de1",
              "style": "IPY_MODEL_7f45db182cf748b298ee213bd512ee0b"
            }
          },
          "6744f1362015493fa7a621be5ceddf27": {
            "model_name": "LayoutModel",
            "model_module": "@jupyter-widgets/base",
            "model_module_version": "2.0.0",
            "state": {
              "border_top": "0px",
              "border_right": "0px",
              "border_bottom": "0px",
              "border_left": "0px",
              "height": "auto",
              "justify_content": "flex-start",
              "margin": "0px",
              "padding": "0px",
              "width": "100%"
            }
          },
          "2dbd339a59544503835bf0f6a44105d8": {
            "model_name": "VBoxModel",
            "model_module": "@jupyter-widgets/controls",
            "model_module_version": "2.0.0",
            "state": {
              "children": [
                "IPY_MODEL_95f4fa09fd00499789f8177e2878af5f",
                "IPY_MODEL_cfe6cfa892ce44a48ed192acd5880e25",
                "IPY_MODEL_edaa66fea8b6442c8de387a2c76b099c",
                "IPY_MODEL_95f4fa09fd00499789f8177e2878af5f",
                "IPY_MODEL_8ba6eeeba5c24ca49fe9bf61fadc580d",
                "IPY_MODEL_5dab63fbed6e46ccb7ab797f01bde5be",
                "IPY_MODEL_95f4fa09fd00499789f8177e2878af5f",
                "IPY_MODEL_53c0f42131834462ad8c5ed53cbd2e2a",
                "IPY_MODEL_e9610ca773fa4530942cb7acf2e15e03",
                "IPY_MODEL_95f4fa09fd00499789f8177e2878af5f",
                "IPY_MODEL_4c1ebac5941c4768b6633f4a15c61785",
                "IPY_MODEL_28c20ffba21a4498b4b0665985b47a8d",
                "IPY_MODEL_95f4fa09fd00499789f8177e2878af5f",
                "IPY_MODEL_796fd5796f244d279e999fe4afaa5ffa",
                "IPY_MODEL_7fef72b161d64f3384b8440a0a7a7be8",
                "IPY_MODEL_95f4fa09fd00499789f8177e2878af5f",
                "IPY_MODEL_4b6c525c64de4d1fa55486125731c5f4",
                "IPY_MODEL_4dfa497ca98046f2a33de8d83ff78632",
                "IPY_MODEL_95f4fa09fd00499789f8177e2878af5f",
                "IPY_MODEL_63ee9ed9b9034f6e91cce24bc61d5f0d",
                "IPY_MODEL_94f3db5f8fe14696b49b17bedd2b1bf0",
                "IPY_MODEL_95f4fa09fd00499789f8177e2878af5f",
                "IPY_MODEL_de07658de2a54d388d517baaa7eebc3f",
                "IPY_MODEL_d72e5a3f6ecb46288121e7eebf01a455",
                "IPY_MODEL_95f4fa09fd00499789f8177e2878af5f",
                "IPY_MODEL_2db7b5d17f82428eafce3d47d1d5d586",
                "IPY_MODEL_8a22c64c25e64ed999a3be0fa8c3b677",
                "IPY_MODEL_95f4fa09fd00499789f8177e2878af5f",
                "IPY_MODEL_6af6eb7baeb34ad99d8cd873b53dc3dc",
                "IPY_MODEL_e03e2c28e69a455a954da7b7dc16c8e7",
                "IPY_MODEL_95f4fa09fd00499789f8177e2878af5f"
              ],
              "layout": "IPY_MODEL_6744f1362015493fa7a621be5ceddf27"
            }
          },
          "7060e546e8bb41c2bd0eda60b4c51aa6": {
            "model_name": "LayoutModel",
            "model_module": "@jupyter-widgets/base",
            "model_module_version": "2.0.0",
            "state": {
              "height": "auto",
              "width": "60%"
            }
          },
          "4726f511aed3482f90c8d8bc75bd8d64": {
            "model_name": "OutputModel",
            "model_module": "@jupyter-widgets/output",
            "model_module_version": "1.0.0",
            "state": {
              "outputs": [
                {
                  "output_type": "display_data",
                  "data": {
                    "text/plain": "<IPython.core.display.HTML object>",
                    "text/html": "<table border=\"1\" class=\"dataframe\">\n  <tbody>\n    <tr>\n      <td>1.171881e+11</td>\n      <td>0.000000e+00</td>\n      <td>-5.859407e+10</td>\n      <td>5.493194e+08</td>\n      <td>0.000000e+00</td>\n      <td>0.000000e+00</td>\n      <td>0.000000e+00</td>\n      <td>0.000000e+00</td>\n      <td>0.000000e+00</td>\n      <td>0.000000e+00</td>\n      <td>0.000000e+00</td>\n      <td>0.000000e+00</td>\n      <td>0.000000e+00</td>\n      <td>0.000000e+00</td>\n    </tr>\n    <tr>\n      <td>0.000000e+00</td>\n      <td>1.707380e+07</td>\n      <td>-5.493194e+08</td>\n      <td>1.762840e+06</td>\n      <td>0.000000e+00</td>\n      <td>0.000000e+00</td>\n      <td>0.000000e+00</td>\n      <td>0.000000e+00</td>\n      <td>0.000000e+00</td>\n      <td>0.000000e+00</td>\n      <td>0.000000e+00</td>\n      <td>0.000000e+00</td>\n      <td>0.000000e+00</td>\n      <td>0.000000e+00</td>\n    </tr>\n    <tr>\n      <td>-5.859407e+10</td>\n      <td>-5.493194e+08</td>\n      <td>1.171881e+11</td>\n      <td>0.000000e+00</td>\n      <td>-5.859407e+10</td>\n      <td>5.493194e+08</td>\n      <td>0.000000e+00</td>\n      <td>0.000000e+00</td>\n      <td>0.000000e+00</td>\n      <td>0.000000e+00</td>\n      <td>0.000000e+00</td>\n      <td>0.000000e+00</td>\n      <td>0.000000e+00</td>\n      <td>0.000000e+00</td>\n    </tr>\n    <tr>\n      <td>5.493194e+08</td>\n      <td>1.762840e+06</td>\n      <td>0.000000e+00</td>\n      <td>1.707380e+07</td>\n      <td>-5.493194e+08</td>\n      <td>1.762840e+06</td>\n      <td>0.000000e+00</td>\n      <td>0.000000e+00</td>\n      <td>0.000000e+00</td>\n      <td>0.000000e+00</td>\n      <td>0.000000e+00</td>\n      <td>0.000000e+00</td>\n      <td>0.000000e+00</td>\n      <td>0.000000e+00</td>\n    </tr>\n    <tr>\n      <td>0.000000e+00</td>\n      <td>0.000000e+00</td>\n      <td>-5.859407e+10</td>\n      <td>-5.493194e+08</td>\n      <td>1.171881e+11</td>\n      <td>0.000000e+00</td>\n      <td>-5.859407e+10</td>\n      <td>5.493194e+08</td>\n      <td>0.000000e+00</td>\n      <td>0.000000e+00</td>\n      <td>0.000000e+00</td>\n      <td>0.000000e+00</td>\n      <td>0.000000e+00</td>\n      <td>0.000000e+00</td>\n    </tr>\n    <tr>\n      <td>0.000000e+00</td>\n      <td>0.000000e+00</td>\n      <td>5.493194e+08</td>\n      <td>1.762840e+06</td>\n      <td>0.000000e+00</td>\n      <td>1.707380e+07</td>\n      <td>-5.493194e+08</td>\n      <td>1.762840e+06</td>\n      <td>0.000000e+00</td>\n      <td>0.000000e+00</td>\n      <td>0.000000e+00</td>\n      <td>0.000000e+00</td>\n      <td>0.000000e+00</td>\n      <td>0.000000e+00</td>\n    </tr>\n    <tr>\n      <td>0.000000e+00</td>\n      <td>0.000000e+00</td>\n      <td>0.000000e+00</td>\n      <td>0.000000e+00</td>\n      <td>-5.859407e+10</td>\n      <td>-5.493194e+08</td>\n      <td>1.171881e+11</td>\n      <td>0.000000e+00</td>\n      <td>-5.859407e+10</td>\n      <td>5.493194e+08</td>\n      <td>0.000000e+00</td>\n      <td>0.000000e+00</td>\n      <td>0.000000e+00</td>\n      <td>0.000000e+00</td>\n    </tr>\n    <tr>\n      <td>0.000000e+00</td>\n      <td>0.000000e+00</td>\n      <td>0.000000e+00</td>\n      <td>0.000000e+00</td>\n      <td>5.493194e+08</td>\n      <td>1.762840e+06</td>\n      <td>0.000000e+00</td>\n      <td>1.707380e+07</td>\n      <td>-5.493194e+08</td>\n      <td>1.762840e+06</td>\n      <td>0.000000e+00</td>\n      <td>0.000000e+00</td>\n      <td>0.000000e+00</td>\n      <td>0.000000e+00</td>\n    </tr>\n    <tr>\n      <td>0.000000e+00</td>\n      <td>0.000000e+00</td>\n      <td>0.000000e+00</td>\n      <td>0.000000e+00</td>\n      <td>0.000000e+00</td>\n      <td>0.000000e+00</td>\n      <td>-5.859407e+10</td>\n      <td>-5.493194e+08</td>\n      <td>1.171881e+11</td>\n      <td>0.000000e+00</td>\n      <td>-5.859407e+10</td>\n      <td>5.493194e+08</td>\n      <td>0.000000e+00</td>\n      <td>0.000000e+00</td>\n    </tr>\n    <tr>\n      <td>0.000000e+00</td>\n      <td>0.000000e+00</td>\n      <td>0.000000e+00</td>\n      <td>0.000000e+00</td>\n      <td>0.000000e+00</td>\n      <td>0.000000e+00</td>\n      <td>5.493194e+08</td>\n      <td>1.762840e+06</td>\n      <td>0.000000e+00</td>\n      <td>1.707380e+07</td>\n      <td>-5.493194e+08</td>\n      <td>1.762840e+06</td>\n      <td>0.000000e+00</td>\n      <td>0.000000e+00</td>\n    </tr>\n    <tr>\n      <td>0.000000e+00</td>\n      <td>0.000000e+00</td>\n      <td>0.000000e+00</td>\n      <td>0.000000e+00</td>\n      <td>0.000000e+00</td>\n      <td>0.000000e+00</td>\n      <td>0.000000e+00</td>\n      <td>0.000000e+00</td>\n      <td>-5.859407e+10</td>\n      <td>-5.493194e+08</td>\n      <td>1.171881e+11</td>\n      <td>0.000000e+00</td>\n      <td>-5.859407e+10</td>\n      <td>5.493194e+08</td>\n    </tr>\n    <tr>\n      <td>0.000000e+00</td>\n      <td>0.000000e+00</td>\n      <td>0.000000e+00</td>\n      <td>0.000000e+00</td>\n      <td>0.000000e+00</td>\n      <td>0.000000e+00</td>\n      <td>0.000000e+00</td>\n      <td>0.000000e+00</td>\n      <td>5.493194e+08</td>\n      <td>1.762840e+06</td>\n      <td>0.000000e+00</td>\n      <td>1.707380e+07</td>\n      <td>-5.493194e+08</td>\n      <td>1.762840e+06</td>\n    </tr>\n    <tr>\n      <td>0.000000e+00</td>\n      <td>0.000000e+00</td>\n      <td>0.000000e+00</td>\n      <td>0.000000e+00</td>\n      <td>0.000000e+00</td>\n      <td>0.000000e+00</td>\n      <td>0.000000e+00</td>\n      <td>0.000000e+00</td>\n      <td>0.000000e+00</td>\n      <td>0.000000e+00</td>\n      <td>-5.859407e+10</td>\n      <td>-5.493194e+08</td>\n      <td>1.171881e+11</td>\n      <td>0.000000e+00</td>\n    </tr>\n    <tr>\n      <td>0.000000e+00</td>\n      <td>0.000000e+00</td>\n      <td>0.000000e+00</td>\n      <td>0.000000e+00</td>\n      <td>0.000000e+00</td>\n      <td>0.000000e+00</td>\n      <td>0.000000e+00</td>\n      <td>0.000000e+00</td>\n      <td>0.000000e+00</td>\n      <td>0.000000e+00</td>\n      <td>5.493194e+08</td>\n      <td>1.762840e+06</td>\n      <td>0.000000e+00</td>\n      <td>1.707380e+07</td>\n    </tr>\n  </tbody>\n</table>"
                  },
                  "metadata": {}
                }
              ],
              "layout": "IPY_MODEL_7060e546e8bb41c2bd0eda60b4c51aa6"
            }
          },
          "056e0417898e44faae3afd1fdc981328": {
            "model_name": "LayoutModel",
            "model_module": "@jupyter-widgets/base",
            "model_module_version": "2.0.0",
            "state": {
              "height": "auto",
              "width": "auto"
            }
          },
          "eb9e634cfdaa4e1baf3854d1d00b7483": {
            "model_name": "OutputModel",
            "model_module": "@jupyter-widgets/output",
            "model_module_version": "1.0.0",
            "state": {
              "outputs": [
                {
                  "output_type": "display_data",
                  "data": {
                    "text/plain": "<IPython.core.display.HTML object>",
                    "text/html": "<table border=\"1\" class=\"dataframe\">\n  <tbody>\n    <tr>\n      <td>0.0</td>\n    </tr>\n    <tr>\n      <td>0.0</td>\n    </tr>\n    <tr>\n      <td>0.0</td>\n    </tr>\n    <tr>\n      <td>0.0</td>\n    </tr>\n    <tr>\n      <td>0.0</td>\n    </tr>\n    <tr>\n      <td>0.0</td>\n    </tr>\n    <tr>\n      <td>-10000.0</td>\n    </tr>\n    <tr>\n      <td>0.0</td>\n    </tr>\n    <tr>\n      <td>0.0</td>\n    </tr>\n    <tr>\n      <td>0.0</td>\n    </tr>\n    <tr>\n      <td>0.0</td>\n    </tr>\n    <tr>\n      <td>0.0</td>\n    </tr>\n    <tr>\n      <td>0.0</td>\n    </tr>\n    <tr>\n      <td>0.0</td>\n    </tr>\n  </tbody>\n</table>"
                  },
                  "metadata": {}
                }
              ],
              "layout": "IPY_MODEL_056e0417898e44faae3afd1fdc981328"
            }
          },
          "bacf63284083482991c7864995765108": {
            "model_name": "LayoutModel",
            "model_module": "@jupyter-widgets/base",
            "model_module_version": "2.0.0",
            "state": {
              "height": "auto",
              "width": "auto"
            }
          },
          "7efb697c876d47f09d9ae7e1df176a78": {
            "model_name": "OutputModel",
            "model_module": "@jupyter-widgets/output",
            "model_module_version": "1.0.0",
            "state": {
              "outputs": [
                {
                  "output_type": "display_data",
                  "data": {
                    "text/plain": "<IPython.core.display.HTML object>",
                    "text/html": "<table border=\"1\" class=\"dataframe\">\n  <tbody>\n    <tr>\n      <td>-4.745705e-07</td>\n    </tr>\n    <tr>\n      <td>-4.151868e-05</td>\n    </tr>\n    <tr>\n      <td>-1.468125e-06</td>\n    </tr>\n    <tr>\n      <td>-5.535824e-05</td>\n    </tr>\n    <tr>\n      <td>-2.461679e-06</td>\n    </tr>\n    <tr>\n      <td>-4.151868e-05</td>\n    </tr>\n    <tr>\n      <td>-2.936249e-06</td>\n    </tr>\n    <tr>\n      <td>0.000000e+00</td>\n    </tr>\n    <tr>\n      <td>-2.461679e-06</td>\n    </tr>\n    <tr>\n      <td>4.151868e-05</td>\n    </tr>\n    <tr>\n      <td>-1.468125e-06</td>\n    </tr>\n    <tr>\n      <td>5.535824e-05</td>\n    </tr>\n    <tr>\n      <td>-4.745705e-07</td>\n    </tr>\n    <tr>\n      <td>4.151868e-05</td>\n    </tr>\n  </tbody>\n</table>"
                  },
                  "metadata": {}
                }
              ],
              "layout": "IPY_MODEL_bacf63284083482991c7864995765108"
            }
          },
          "83f81819c3ef49adbd9dcc05ae516eb3": {
            "model_name": "LayoutModel",
            "model_module": "@jupyter-widgets/base",
            "model_module_version": "2.0.0",
            "state": {
              "border_top": "0px",
              "border_right": "0px",
              "border_bottom": "0px",
              "border_left": "0px",
              "height": "auto",
              "margin": "0px",
              "padding": "0px",
              "width": "auto"
            }
          },
          "3b8f2a1353ee49e19467bdf1c8d8b6bd": {
            "model_name": "HTMLMathStyleModel",
            "model_module": "@jupyter-widgets/controls",
            "model_module_version": "2.0.0",
            "state": {
              "description_width": ""
            }
          },
          "76127753ada840f9b0aa763544d46263": {
            "model_name": "HTMLMathModel",
            "model_module": "@jupyter-widgets/controls",
            "model_module_version": "2.0.0",
            "state": {
              "value": "<font size = '10'>x",
              "layout": "IPY_MODEL_83f81819c3ef49adbd9dcc05ae516eb3",
              "style": "IPY_MODEL_3b8f2a1353ee49e19467bdf1c8d8b6bd"
            }
          },
          "4723c59615ff475aa61cad350769068a": {
            "model_name": "LayoutModel",
            "model_module": "@jupyter-widgets/base",
            "model_module_version": "2.0.0",
            "state": {
              "border_top": "0px",
              "border_right": "0px",
              "border_bottom": "0px",
              "border_left": "0px",
              "height": "auto",
              "margin": "0px",
              "padding": "0px",
              "width": "auto"
            }
          },
          "c109f54ba12f433e9aad6776c09ac15f": {
            "model_name": "HTMLMathStyleModel",
            "model_module": "@jupyter-widgets/controls",
            "model_module_version": "2.0.0",
            "state": {
              "description_width": ""
            }
          },
          "2db1cd7d2fc945838f960f61c56e558d": {
            "model_name": "HTMLMathModel",
            "model_module": "@jupyter-widgets/controls",
            "model_module_version": "2.0.0",
            "state": {
              "value": "<font size = '10'>=",
              "layout": "IPY_MODEL_4723c59615ff475aa61cad350769068a",
              "style": "IPY_MODEL_c109f54ba12f433e9aad6776c09ac15f"
            }
          },
          "1ab7a1571d80415191e079509a31d106": {
            "model_name": "LayoutModel",
            "model_module": "@jupyter-widgets/base",
            "model_module_version": "2.0.0",
            "state": {
              "align_items": "center",
              "border_top": "0px",
              "border_right": "0px",
              "border_bottom": "0px",
              "border_left": "0px",
              "height": "100%",
              "justify_content": "space-between",
              "margin": "0px",
              "padding": "0px",
              "width": "100%"
            }
          },
          "3d46f56911794693a4d11e21d7133697": {
            "model_name": "HBoxModel",
            "model_module": "@jupyter-widgets/controls",
            "model_module_version": "2.0.0",
            "state": {
              "children": [
                "IPY_MODEL_4726f511aed3482f90c8d8bc75bd8d64",
                "IPY_MODEL_76127753ada840f9b0aa763544d46263",
                "IPY_MODEL_eb9e634cfdaa4e1baf3854d1d00b7483",
                "IPY_MODEL_2db1cd7d2fc945838f960f61c56e558d",
                "IPY_MODEL_7efb697c876d47f09d9ae7e1df176a78"
              ],
              "layout": "IPY_MODEL_1ab7a1571d80415191e079509a31d106"
            }
          },
          "d804c1ffa7bc487eb9b8fe6ebef38a69": {
            "model_name": "LayoutModel",
            "model_module": "@jupyter-widgets/base",
            "model_module_version": "2.0.0",
            "state": {
              "border_top": "0px",
              "border_right": "0px",
              "border_bottom": "0px",
              "border_left": "0px",
              "height": "300px",
              "justify_content": "space-around",
              "margin": "0px",
              "padding": "0px",
              "width": "100%"
            }
          },
          "5ca82453fca4465d8701daace554a1c4": {
            "model_name": "VBoxModel",
            "model_module": "@jupyter-widgets/controls",
            "model_module_version": "2.0.0",
            "state": {
              "children": [
                "IPY_MODEL_f005f0eb357e44a7a3bf16c085834072"
              ],
              "layout": "IPY_MODEL_d804c1ffa7bc487eb9b8fe6ebef38a69"
            }
          },
          "b6d81af00b874c58b27a2955bc03401f": {
            "model_name": "LayoutModel",
            "model_module": "@jupyter-widgets/base",
            "model_module_version": "2.0.0",
            "state": {
              "border_top": "0px",
              "border_right": "0px",
              "border_bottom": "0px",
              "border_left": "0px",
              "height": "300px",
              "justify_content": "space-around",
              "margin": "0px",
              "padding": "0px",
              "width": "100%"
            }
          },
          "9218241d368244a09f98c1e057a43d7f": {
            "model_name": "VBoxModel",
            "model_module": "@jupyter-widgets/controls",
            "model_module_version": "2.0.0",
            "state": {
              "children": [
                "IPY_MODEL_b2330542ff8848c7a796439eb469c02a"
              ],
              "layout": "IPY_MODEL_b6d81af00b874c58b27a2955bc03401f"
            }
          },
          "ce8c159c693a4064977a3fc16df575e1": {
            "model_name": "LayoutModel",
            "model_module": "@jupyter-widgets/base",
            "model_module_version": "2.0.0",
            "state": {}
          },
          "45579da3d04e4bd089cb1df5f9fa4754": {
            "model_name": "VBoxModel",
            "model_module": "@jupyter-widgets/controls",
            "model_module_version": "2.0.0",
            "state": {
              "_dom_classes": [
                "widget-interact"
              ],
              "children": [
                "IPY_MODEL_4453eef9880d44db8f609c314298a524",
                "IPY_MODEL_e467990c5f29453786e241fc6be9a5fc"
              ],
              "layout": "IPY_MODEL_ce8c159c693a4064977a3fc16df575e1"
            }
          },
          "25f338c94f304a21aedccc57918c1694": {
            "model_name": "LayoutModel",
            "model_module": "@jupyter-widgets/base",
            "model_module_version": "2.0.0",
            "state": {}
          },
          "e467990c5f29453786e241fc6be9a5fc": {
            "model_name": "OutputModel",
            "model_module": "@jupyter-widgets/output",
            "model_module_version": "1.0.0",
            "state": {
              "layout": "IPY_MODEL_25f338c94f304a21aedccc57918c1694"
            }
          },
          "b2ab291d1f08473286f60dc16a1987e6": {
            "model_name": "LayoutModel",
            "model_module": "@jupyter-widgets/base",
            "model_module_version": "2.0.0",
            "state": {}
          },
          "2258acb7240e4cbab1f1c9b1983cafae": {
            "model_name": "VBoxModel",
            "model_module": "@jupyter-widgets/controls",
            "model_module_version": "2.0.0",
            "state": {
              "_dom_classes": [
                "widget-interact"
              ],
              "children": [
                "IPY_MODEL_0f589911f980464b8e02c248dac00dab",
                "IPY_MODEL_4df0f6202c594872a3008d0584b51a87"
              ],
              "layout": "IPY_MODEL_b2ab291d1f08473286f60dc16a1987e6"
            }
          },
          "11356c0806284b48b968fe898759ecb1": {
            "model_name": "LayoutModel",
            "model_module": "@jupyter-widgets/base",
            "model_module_version": "2.0.0",
            "state": {}
          },
          "4df0f6202c594872a3008d0584b51a87": {
            "model_name": "OutputModel",
            "model_module": "@jupyter-widgets/output",
            "model_module_version": "1.0.0",
            "state": {
              "layout": "IPY_MODEL_11356c0806284b48b968fe898759ecb1"
            }
          },
          "4515684e909b4cc1a3c53b31a98609c9": {
            "model_name": "LayoutModel",
            "model_module": "@jupyter-widgets/base",
            "model_module_version": "2.0.0",
            "state": {}
          },
          "e2c2d8006cdd4ed399784bc41682477a": {
            "model_name": "VBoxModel",
            "model_module": "@jupyter-widgets/controls",
            "model_module_version": "2.0.0",
            "state": {
              "_dom_classes": [
                "widget-interact"
              ],
              "children": [
                "IPY_MODEL_ff4d6b79ff554a85983054e4f43fa1f6",
                "IPY_MODEL_0c49a58688d54151867e5a6d2979a1ce"
              ],
              "layout": "IPY_MODEL_4515684e909b4cc1a3c53b31a98609c9"
            }
          },
          "deee3d98f7ad472c9f4f05c8bca15128": {
            "model_name": "LayoutModel",
            "model_module": "@jupyter-widgets/base",
            "model_module_version": "2.0.0",
            "state": {}
          },
          "0c49a58688d54151867e5a6d2979a1ce": {
            "model_name": "OutputModel",
            "model_module": "@jupyter-widgets/output",
            "model_module_version": "1.0.0",
            "state": {
              "layout": "IPY_MODEL_deee3d98f7ad472c9f4f05c8bca15128"
            }
          },
          "ad13dd3638d14c48baa64bb576d6ae4c": {
            "model_name": "LayoutModel",
            "model_module": "@jupyter-widgets/base",
            "model_module_version": "2.0.0",
            "state": {}
          },
          "abab127608bc48728d0c41380c680d04": {
            "model_name": "VBoxModel",
            "model_module": "@jupyter-widgets/controls",
            "model_module_version": "2.0.0",
            "state": {
              "_dom_classes": [
                "widget-interact"
              ],
              "children": [
                "IPY_MODEL_37c59f4b1ba0402d901dde1988d57cb7",
                "IPY_MODEL_2437c733b85c42e69a8f0a665a474c05"
              ],
              "layout": "IPY_MODEL_ad13dd3638d14c48baa64bb576d6ae4c"
            }
          },
          "33e66b977a144c299e53772ea376d106": {
            "model_name": "LayoutModel",
            "model_module": "@jupyter-widgets/base",
            "model_module_version": "2.0.0",
            "state": {}
          },
          "2437c733b85c42e69a8f0a665a474c05": {
            "model_name": "OutputModel",
            "model_module": "@jupyter-widgets/output",
            "model_module_version": "1.0.0",
            "state": {
              "layout": "IPY_MODEL_33e66b977a144c299e53772ea376d106"
            }
          },
          "79e39afa28024186a6bad24f2dfd6db6": {
            "model_name": "LayoutModel",
            "model_module": "@jupyter-widgets/base",
            "model_module_version": "2.0.0",
            "state": {}
          },
          "cf5f94798a084a1598a052140e05c599": {
            "model_name": "VBoxModel",
            "model_module": "@jupyter-widgets/controls",
            "model_module_version": "2.0.0",
            "state": {
              "_dom_classes": [
                "widget-interact"
              ],
              "children": [
                "IPY_MODEL_ea258810fad24701a92340e1b5a3bbda",
                "IPY_MODEL_a8f2d43e6cd046ed929b6b0fae53a319"
              ],
              "layout": "IPY_MODEL_79e39afa28024186a6bad24f2dfd6db6"
            }
          },
          "4c6cf008b39649f9af11b78b002050dc": {
            "model_name": "LayoutModel",
            "model_module": "@jupyter-widgets/base",
            "model_module_version": "2.0.0",
            "state": {}
          },
          "a8f2d43e6cd046ed929b6b0fae53a319": {
            "model_name": "OutputModel",
            "model_module": "@jupyter-widgets/output",
            "model_module_version": "1.0.0",
            "state": {
              "layout": "IPY_MODEL_4c6cf008b39649f9af11b78b002050dc"
            }
          },
          "c71c1fd255554c5b8e85a2152a3d2f9d": {
            "model_name": "LayoutModel",
            "model_module": "@jupyter-widgets/base",
            "model_module_version": "2.0.0",
            "state": {}
          },
          "6371c1389974488491ffe6f63c8b67be": {
            "model_name": "VBoxModel",
            "model_module": "@jupyter-widgets/controls",
            "model_module_version": "2.0.0",
            "state": {
              "_dom_classes": [
                "widget-interact"
              ],
              "children": [
                "IPY_MODEL_eeb98eac5b864bd28c07ff0ace25e3e7",
                "IPY_MODEL_d800892f739f4368bc6c18a595c42edb"
              ],
              "layout": "IPY_MODEL_c71c1fd255554c5b8e85a2152a3d2f9d"
            }
          },
          "86df3b4d78fa4f38821533b6af1b28b4": {
            "model_name": "LayoutModel",
            "model_module": "@jupyter-widgets/base",
            "model_module_version": "2.0.0",
            "state": {}
          },
          "d800892f739f4368bc6c18a595c42edb": {
            "model_name": "OutputModel",
            "model_module": "@jupyter-widgets/output",
            "model_module_version": "1.0.0",
            "state": {
              "layout": "IPY_MODEL_86df3b4d78fa4f38821533b6af1b28b4"
            }
          },
          "bf0ecf3365ff498c9e4f270eb640e3a4": {
            "model_name": "LayoutModel",
            "model_module": "@jupyter-widgets/base",
            "model_module_version": "2.0.0",
            "state": {}
          },
          "c625f02d313b4f90a665d3703302af27": {
            "model_name": "TooltipModel",
            "model_module": "bqplot",
            "model_module_version": "^0.5",
            "state": {
              "_model_module_version": "^0.5",
              "_view_module_version": "^0.5",
              "fields": [
                "x",
                "y"
              ],
              "formats": [
                ".2f",
                ".2f"
              ],
              "layout": "IPY_MODEL_bf0ecf3365ff498c9e4f270eb640e3a4"
            }
          },
          "aac5157dbfe04446af7d6b7a6f59c5c1": {
            "model_name": "LayoutModel",
            "model_module": "@jupyter-widgets/base",
            "model_module_version": "2.0.0",
            "state": {}
          },
          "43a506576b99483bbd863302fbe523b1": {
            "model_name": "TooltipModel",
            "model_module": "bqplot",
            "model_module_version": "^0.5",
            "state": {
              "_model_module_version": "^0.5",
              "_view_module_version": "^0.5",
              "fields": [
                "x",
                "y"
              ],
              "formats": [
                ".2f",
                ".2f"
              ],
              "layout": "IPY_MODEL_aac5157dbfe04446af7d6b7a6f59c5c1"
            }
          },
          "c4e3d94af5a54f90847f629b6c78b8fc": {
            "model_name": "LayoutModel",
            "model_module": "@jupyter-widgets/base",
            "model_module_version": "2.0.0",
            "state": {}
          },
          "125fa079e56046d095b7db4436e51f7e": {
            "model_name": "TooltipModel",
            "model_module": "bqplot",
            "model_module_version": "^0.5",
            "state": {
              "_model_module_version": "^0.5",
              "_view_module_version": "^0.5",
              "fields": [
                "x",
                "y"
              ],
              "formats": [
                ".2f",
                ".2f"
              ],
              "layout": "IPY_MODEL_c4e3d94af5a54f90847f629b6c78b8fc"
            }
          },
          "02f4dd4412e24961b3e74bd34f7a46c6": {
            "model_name": "LayoutModel",
            "model_module": "@jupyter-widgets/base",
            "model_module_version": "2.0.0",
            "state": {}
          },
          "b701826bd6134e418f8ece8331e1dbbf": {
            "model_name": "TooltipModel",
            "model_module": "bqplot",
            "model_module_version": "^0.5",
            "state": {
              "_model_module_version": "^0.5",
              "_view_module_version": "^0.5",
              "fields": [
                "x",
                "y"
              ],
              "formats": [
                ".2f",
                ".2f"
              ],
              "layout": "IPY_MODEL_02f4dd4412e24961b3e74bd34f7a46c6"
            }
          },
          "676b136d3812408781bdc1366ffbac4c": {
            "model_name": "LayoutModel",
            "model_module": "@jupyter-widgets/base",
            "model_module_version": "2.0.0",
            "state": {}
          },
          "c1a01b8d23d144318bf6532e88aa3c3d": {
            "model_name": "TooltipModel",
            "model_module": "bqplot",
            "model_module_version": "^0.5",
            "state": {
              "_model_module_version": "^0.5",
              "_view_module_version": "^0.5",
              "fields": [
                "x",
                "y"
              ],
              "formats": [
                ".2f",
                ".2f"
              ],
              "layout": "IPY_MODEL_676b136d3812408781bdc1366ffbac4c"
            }
          },
          "d8d549b59a4543cb9c487b2cdb6c55a6": {
            "model_name": "LayoutModel",
            "model_module": "@jupyter-widgets/base",
            "model_module_version": "2.0.0",
            "state": {}
          },
          "085c79cae379427ea1e87ba108a1a6b4": {
            "model_name": "TooltipModel",
            "model_module": "bqplot",
            "model_module_version": "^0.5",
            "state": {
              "_model_module_version": "^0.5",
              "_view_module_version": "^0.5",
              "fields": [
                "x",
                "y"
              ],
              "formats": [
                ".2f",
                ".2f"
              ],
              "layout": "IPY_MODEL_d8d549b59a4543cb9c487b2cdb6c55a6"
            }
          },
          "4bc36319dece48ec97517dce0a393df6": {
            "model_name": "LayoutModel",
            "model_module": "@jupyter-widgets/base",
            "model_module_version": "2.0.0",
            "state": {}
          },
          "a225c47ac8d0471ea4d01806456ac3e5": {
            "model_name": "TooltipModel",
            "model_module": "bqplot",
            "model_module_version": "^0.5",
            "state": {
              "_model_module_version": "^0.5",
              "_view_module_version": "^0.5",
              "fields": [
                "x",
                "y"
              ],
              "formats": [
                ".2f",
                ".2f"
              ],
              "layout": "IPY_MODEL_4bc36319dece48ec97517dce0a393df6"
            }
          },
          "f311378edb964ed0bdbfb3ff66b997c5": {
            "model_name": "LayoutModel",
            "model_module": "@jupyter-widgets/base",
            "model_module_version": "2.0.0",
            "state": {}
          },
          "c582c0ece16543429b0ad6bc33f5cb61": {
            "model_name": "TooltipModel",
            "model_module": "bqplot",
            "model_module_version": "^0.5",
            "state": {
              "_model_module_version": "^0.5",
              "_view_module_version": "^0.5",
              "fields": [
                "x",
                "y"
              ],
              "formats": [
                ".2f",
                ".2f"
              ],
              "layout": "IPY_MODEL_f311378edb964ed0bdbfb3ff66b997c5"
            }
          },
          "0a22d828185f4228acdeeecb809f3f7d": {
            "model_name": "LayoutModel",
            "model_module": "@jupyter-widgets/base",
            "model_module_version": "2.0.0",
            "state": {}
          },
          "699ef33f7e2e453eb32f2abf68789ee3": {
            "model_name": "TooltipModel",
            "model_module": "bqplot",
            "model_module_version": "^0.5",
            "state": {
              "_model_module_version": "^0.5",
              "_view_module_version": "^0.5",
              "fields": [
                "x",
                "y"
              ],
              "formats": [
                ".2f",
                ".2f"
              ],
              "layout": "IPY_MODEL_0a22d828185f4228acdeeecb809f3f7d"
            }
          },
          "e948e1ca11824c55903b1abe43c2e4d3": {
            "model_name": "LayoutModel",
            "model_module": "@jupyter-widgets/base",
            "model_module_version": "2.0.0",
            "state": {}
          },
          "9fea58d8f1854d4a8edef064212521d6": {
            "model_name": "TooltipModel",
            "model_module": "bqplot",
            "model_module_version": "^0.5",
            "state": {
              "_model_module_version": "^0.5",
              "_view_module_version": "^0.5",
              "fields": [
                "x",
                "y"
              ],
              "formats": [
                ".2f",
                ".2f"
              ],
              "layout": "IPY_MODEL_e948e1ca11824c55903b1abe43c2e4d3"
            }
          }
        }
      }
    },
    "language_info": {
      "codemirror_mode": {
        "name": "python",
        "version": 3
      },
      "file_extension": ".py",
      "mimetype": "text/x-python",
      "name": "python",
      "nbconvert_exporter": "python",
      "pygments_lexer": "ipython3",
      "version": "3.8"
    },
    "kernelspec": {
      "name": "python",
      "display_name": "Python (Pyodide)",
      "language": "python"
    }
  },
  "nbformat_minor": 4,
  "nbformat": 4,
  "cells": [
    {
      "cell_type": "code",
      "source": "%pip install -q ipywidgets\n%pip install -q bqplot",
      "metadata": {
        "tags": [],
        "jupyter": {
          "source_hidden": true
        },
        "trusted": true
      },
      "execution_count": 1,
      "outputs": []
    },
    {
      "cell_type": "code",
      "source": "import ipywidgets as ipw\nimport bqplot as bqp\nimport pandas as pd\nimport numpy as np\nimport sympy as sp\nfrom bqplot import pyplot as plt\nfrom scipy import interpolate as numint\nfrom IPython.display import display, HTML\nfrom sympy.printing import latex\nfrom sympy import *",
      "metadata": {
        "tags": [],
        "jupyter": {
          "source_hidden": true
        },
        "trusted": true
      },
      "execution_count": 2,
      "outputs": []
    },
    {
      "cell_type": "code",
      "source": "%%html\n<div style=\"text-align: center; font-size: 100pt; width: 100%; color: black\">\n    <math xmlns=\"http://www.w3.org/1998/Math/MathML\">\n        <mrow>\n            <mo>&#8747;</mo>\n            <mspace width=\"0.3em\"/>\n            <mi>vs</mi>\n            <mspace width=\"0.3em\"/>\n            <mo>&#8721;</mo>\n        </mrow>\n    </math>\n</div>",
      "metadata": {
        "tags": [],
        "jupyter": {
          "source_hidden": true
        },
        "trusted": true
      },
      "execution_count": 3,
      "outputs": [
        {
          "output_type": "display_data",
          "data": {
            "text/plain": "<IPython.core.display.HTML object>",
            "text/html": "<div style=\"text-align: center; font-size: 100pt; width: 100%; color: black\">\n    <math xmlns=\"http://www.w3.org/1998/Math/MathML\">\n        <mrow>\n            <mo>&#8747;</mo>\n            <mspace width=\"0.3em\"/>\n            <mi>vs</mi>\n            <mspace width=\"0.3em\"/>\n            <mo>&#8721;</mo>\n        </mrow>\n    </math>\n</div>\n"
          },
          "metadata": {}
        }
      ]
    },
    {
      "cell_type": "code",
      "source": "margin1 = '0px 0px 10px 0px'\nwidth1  = '200px'\nHTML1 = ipw.HTML(\n        value  = f'<center><font face=\"Times New Roman\"><font size=\"5\">\\\n                 Parámetros de calculo\\\n                 </font></font></center>',\n        layout = ipw.Layout(width = '250px', margin = margin1)\n) \nDropdown1 = ipw.Dropdown(\n            options = ['Elastico', 'Fijo'],\n            value = 'Fijo',\n            description = 'Apoyo 1',\n            layout = ipw.Layout(width = width1, margin = margin1)\n)\nDropdown2 = ipw.Dropdown(\n            options = ['Elastico', 'Fijo'],\n            value = 'Fijo',\n            description = 'Apoyo 2',\n            layout = ipw.Layout(width = width1, margin = margin1)\n)\nDropdown3 = ipw.Dropdown(\n            options = ['Cortantes', 'Momentos', 'Pendientes', 'Deflexiones'],\n            value = 'Cortantes',\n            description = 'Grafica de: ',\n            layout = ipw.Layout(width = '30%', height = 'auto', margin = '0px 30px 0px 0px')\n)\nBoundedFloatText1 = ipw.BoundedFloatText(\n                    value = 7850,\n                    min = 10,\n                    max = 10000,\n                    step = 10,\n                    description = 'D (kg/m3)',\n                    layout = ipw.Layout(width = width1, margin = margin1)\n)\nBoundedFloatText2 = ipw.BoundedFloatText(\n                    value = 50,\n                    min = 10,\n                    max = 10000,\n                    step = 1,\n                    description = 'Ø ext. (mm)',\n                    layout = ipw.Layout(width = width1, margin = margin1)\n)\nBoundedFloatText3 = ipw.BoundedFloatText(\n                    value = 0,\n                    min = 0,\n                    max = 10000,\n                    step = 1,\n                    description = 'Ø int. (mm)',\n                    layout = ipw.Layout(width = width1, margin = margin1)\n)\nBoundedFloatText4 = ipw.BoundedFloatText(\n                    value = 100,\n                    min = 10,\n                    max = 10000,\n                    step = 10,\n                    description = 'L (mm)',\n                    layout = ipw.Layout(width = width1, margin = margin1)\n)\nBoundedFloatText5 = ipw.BoundedIntText(\n                    value = 3,\n                    min = 0,\n                    max = 100,\n                    step = 1,\n                    description = 'Elementos',\n                    layout = ipw.Layout(width = width1, margin = margin1)\n)\nFloatText2 = ipw.FloatText(\n             value = -10,\n             description = 'F (KN)',\n             layout = ipw.Layout(width = width1, margin = margin1)\n)\nFloatText3 = ipw.FloatText(\n             value = 0,\n             description = 'M (KN.m)',\n             layout = ipw.Layout(width = width1, margin = margin1)\n)\nFloatSlider3 = ipw.FloatSlider(\n               description = 'Dominio',\n               min = 0,\n               max = BoundedFloatText4.value,\n               value = BoundedFloatText4.value / 2,\n               step = 1,\n               layout = ipw.Layout(margin = margin1, width = '280px')\n)\nCheckbox1 = ipw.Checkbox(\n            value = False,\n            description = 'Peso del eje',\n            layout = ipw.Layout(width = width1, margin = margin1),\n            indent = True\n)\nButton1 = ipw.Button(\n          description = 'Calcular',\n          button_style = 'success',\n          icon = 'gear',\n          layout = ipw.Layout(width = '20%', height = 'auto', margin = '0px 10px 0px 0px')\n)\nButton1.style.button_color = 'black'\nButton2 = ipw.Button(\n          description = 'Graficar',\n          button_style = 'success',\n          icon = 'pencil',\n          layout = ipw.Layout(width = '20%', height = 'auto', margin = '0px 10px 0px 0px')\n)\nButton2.style.button_color = 'black'\nButton3 = ipw.Button(\n          description = 'Enumerar',\n          button_style = 'success',\n          icon = 'eye',\n          layout = ipw.Layout(width = '20%', height = 'auto', margin = '0px 0px 0px 0px')\n)\nButton3.style.button_color = 'black'\n\ngrid1 = ipw.GridspecLayout(4, 4, layout = ipw.Layout(width = '100%', height = '120px', margin = '0px 0px 0px 0px', padding = '0px', border = '0px'))\nfor i in range(4):\n    for j in range(4):\n        grid1[i, j] = ipw.Text(layout = ipw.Layout(height = '5px', width = '150px'), disabled = False)\ngrid1[0, 1].value = 'Deflexiones (mm)'\ngrid1[0, 2].value = 'Velocidad Crítica (rpm)'\ngrid1[0, 3].value = 'Esfuerzo (Pa)'\ngrid1[1, 0].value = 'Bernoulli'\ngrid1[2, 0].value = 'Timoshenko'\ngrid1[3, 0].value = '% de Error'\n\nscale_x2 = bqp.LinearScale()\nscale_y2 = bqp.LinearScale()\nLines1 = bqp.Lines(x = [], y = [],\n         scales = {'x': scale_x2, 'y': scale_y2,},\n         opacities = [1],\n         colors = ['black'],\n         stroke_width = 1.5,\n         line_style = 'solid'\n)\nLines2 = bqp.Lines(x = [], y = [],\n         scales = {'x': scale_x2, 'y': scale_y2,},\n         opacities = [1],\n         colors = ['black'],\n         stroke_width = 1.5,\n         line_style = 'dashed'\n)\nscale_x3 = bqp.LinearScale()\nscale_y3 = bqp.LinearScale()\nLines3 = bqp.Lines(x = [], y = [],\n         scales = {'x': scale_x3, 'y': scale_y3,},\n         opacities = [1],\n         colors = ['black'],\n         stroke_width = 2,\n         line_style = 'solid',\n         fill = 'inside',\n         fill_opacities = [0.3],\n         close_path = True,\n         marker = 'circle',\n         marker_size = 50\n)\nscale_x4 = bqp.LinearScale()\nscale_y4 = bqp.LinearScale()\nLines4 = bqp.Lines(x = [], y = [],\n         scales = {'x': scale_x4, 'y': scale_y4,},\n         opacities = [1],\n         colors = ['black'],\n         stroke_width = 2,\n         line_style = 'solid',\n         fill = 'inside',\n         fill_opacities = [0.3],\n         close_path = True\n)\nScatter1 = bqp.Scatter(x = [], y = [],\n                   scales = {'x': scale_x2, 'y': scale_y2,},\n                   opacities = [1],\n                   colors = ['black'],\n                   marker = 'triangle-up',\n                   default_size = 250\n)\nScatter2 = bqp.Scatter(x = [], y = [],\n                   scales = {'x': scale_x2, 'y': scale_y2,},\n                   opacities = [1],\n                   colors = ['black'],\n                   marker = 'square',\n                   default_size = 250\n)\nScatter3 = bqp.Scatter(x = [], y = [],\n                   scales = {'x': scale_x2, 'y': scale_y2,},\n                   opacities = [1],\n                   colors = ['black'],\n                   marker = 'triangle-down',\n                   default_size = 100\n)\nScatter4 = bqp.Scatter(x = [], y = [],\n                   scales = {'x': scale_x4, 'y': scale_y4,},\n                   opacities = [1],\n                   colors = ['black'],\n                   marker = 'circle',\n                   default_size = 50,\n                   unhovered_style = {'opacity': 0.5}\n)\n\nax_x2   = bqp.Axis(scale = scale_x2, label = 'Longitud (mm)', label_color = 'black', label_offset = '-2em', grid_lines = 'none', tick_format = '0.0f', tick_style = {'stroke': 'black'}, color = 'black')\nax_y2   = bqp.Axis(scale = scale_y2, label = 'Diametro (mm)', label_color = 'black', label_offset = '-2em', grid_lines = 'none', tick_format = '0.0f', tick_style = {'stroke': 'black'}, color = 'black', orientation = 'vertical')\nm_fig   = dict(left = 50, top = 20, bottom = 30, right = 30)\npanzoom = bqp.interacts.PanZoom(scales={'x': [scale_x2], 'y': [scale_y2]})\nfig3    = plt.figure(interaction = panzoom, title = 'Esquema del eje a analizar', title_style = {'font-size': '15px','fill': 'black'}, marks = [Lines1, Lines2, Scatter1, Scatter2, Scatter3], axes = [ax_x2, ax_y2], fig_margin = m_fig, layout=ipw.Layout(width = 'auto', height = '65%'))\n\nax_x3   = bqp.Axis(scale = scale_x3, label = 'Longitud (mm)', label_color = 'black', label_offset = '-1em', grid_lines = 'dashed', tick_format = '0.0f', tick_style = {'stroke': 'black'}, color = 'black')\nax_y3   = bqp.Axis(scale = scale_y3, label = 'Resultado', label_color = 'black', label_offset = '-1em', grid_lines = 'dashed', tick_format = '0.0f', tick_style = {'stroke': 'black'}, color = 'black', orientation = 'vertical')\nm_fig   = dict(left = 50, top = 20, bottom = 30, right = 30)\nfig4    = plt.figure(marks = [Lines3], axes = [ax_x3, ax_y3], fig_margin = m_fig, layout=ipw.Layout(width = 'auto', height = '100%'))\n\nax_x4   = bqp.Axis(scale = scale_x4, label = 'Longitud (mm)', label_color = 'black', label_offset = '-1em', grid_lines = 'dashed', tick_format = '0.0f', tick_style = {'stroke': 'black'}, color = 'black')\nax_y4   = bqp.Axis(scale = scale_y4, label = 'Resultado', label_color = 'black', label_offset = '-1em', grid_lines = 'dashed', tick_format = '0.0f', tick_style = {'stroke': 'black'}, color = 'black', orientation = 'vertical')\nm_fig   = dict(left = 50, top = 20, bottom = 30, right = 30)\nfig5    = plt.figure(marks = [Lines4, Scatter4], axes = [ax_x4, ax_y4], fig_margin = m_fig, layout=ipw.Layout(width = 'auto', height = '100%'))\n\nHBox3 = ipw.HBox([Button1, Dropdown3, Button2, Button3], \n        layout = ipw.Layout(justify_content = 'space-around', width = 'auto', height = 'auto', margin = '0px', padding = '0px', border = '0px'))\nVBox4 = ipw.VBox([HBox3, fig3, grid1], \n        layout = ipw.Layout(justify_content = 'space-around', width = 'auto', height = 'auto', margin = '0px', padding = '0px', border = '0px'))\nVBox2 = ipw.VBox([HTML1, BoundedFloatText1, BoundedFloatText2, BoundedFloatText3, BoundedFloatText4, FloatText2, FloatText3, Dropdown1, Dropdown2, BoundedFloatText5, Checkbox1, FloatSlider3], \n        layout = ipw.Layout(justify_content = 'flex-start', width = 'auto', height = 'auto', margin = '0px', padding = '0px', border = '0px'))\nHBox2 = ipw.HBox([VBox2, VBox4], layout = ipw.Layout(justify_content = 'center', width = '100%', height = '100%', margin = '0px', padding = '0px', border = '0px'))\ndisplay(HBox2)",
      "metadata": {
        "tags": [],
        "jupyter": {
          "source_hidden": true
        },
        "trusted": true
      },
      "execution_count": 4,
      "outputs": [
        {
          "output_type": "display_data",
          "data": {
            "text/plain": "HBox(children=(VBox(children=(HTML(value='<center><font face=\"Times New Roman\"><font size=\"5\">                …",
            "application/vnd.jupyter.widget-view+json": {
              "version_major": 2,
              "version_minor": 0,
              "model_id": "d9cbd1cd70fd4c419304824d581726b5"
            }
          },
          "metadata": {}
        }
      ]
    },
    {
      "cell_type": "code",
      "source": "%%html\n<div style=\"text-align: center;\">\n    <h1 style=\"font-size: 50pt; color: black;\"><b>Solución Analítica</b></h1>\n</div>",
      "metadata": {
        "tags": [],
        "jupyter": {
          "source_hidden": true
        },
        "trusted": true
      },
      "execution_count": 5,
      "outputs": [
        {
          "output_type": "display_data",
          "data": {
            "text/plain": "<IPython.core.display.HTML object>",
            "text/html": "<div style=\"text-align: center;\">\n    <h1 style=\"font-size: 50pt; color: black;\"><b>Solución Analítica</b></h1>\n</div>\n"
          },
          "metadata": {}
        }
      ]
    },
    {
      "cell_type": "code",
      "source": "HTML2      = ipw.HTML(value = '<div style=\"border-bottom: 1.5px dashed #000;\"></div>')\nHTMLMath16 = ipw.HTMLMath(\n    layout = ipw.Layout(margin = '0px', padding = '0px', border = '0px')\n)\nHTMLMath17 = ipw.HTMLMath(\n    layout = ipw.Layout(margin = '0px', padding = '0px', border = '0px')\n)\nHTMLMath18 = ipw.HTMLMath(\n    layout = ipw.Layout(margin = '0px', padding = '0px', border = '0px')\n)\nHTMLMath19 = ipw.HTMLMath(\n    layout = ipw.Layout(margin = '0px', padding = '0px', border = '0px')\n)\nHTMLMath20 = ipw.HTMLMath(\n    layout = ipw.Layout(margin = '0px', padding = '0px', border = '0px')\n)\nHTMLMath21 = ipw.HTMLMath(\n    layout = ipw.Layout(margin = '0px', padding = '0px', border = '0px')\n)\nHTMLMath27 = ipw.HTMLMath(\n    layout = ipw.Layout(margin = '0px', padding = '0px', border = '0px')\n)\nHTMLMath28 = ipw.HTMLMath(\n    layout = ipw.Layout(margin = '0px', padding = '0px', border = '0px')\n)\nHTMLMath29 = ipw.HTMLMath(\n    layout = ipw.Layout(margin = '0px', padding = '0px', border = '0px')\n)\nHTMLMath30 = ipw.HTMLMath(\n    layout = ipw.Layout(margin = '0px', padding = '0px', border = '0px')\n)\nVBox5 = ipw.VBox([HTML2, ipw.HTMLMath(r\"<font size = '3', font color = 'black', font face = 'Times New Roman'>Ecuacion de cortantes:\"), HTMLMath27,\n                  HTML2, ipw.HTMLMath(r\"<font size = '3', font color = 'black', font face = 'Times New Roman'>Ecuacion de momentos:\"), HTMLMath16, \n                  HTML2, ipw.HTMLMath(r\"<font size = '3', font color = 'black', font face = 'Times New Roman'>Ecuacion de pendientes:\"), HTMLMath28,\n                  HTML2, ipw.HTMLMath(r\"<font size = '3', font color = 'black', font face = 'Times New Roman'>Ecuacion de deflexiones:\"), HTMLMath17, \n                  HTML2, ipw.HTMLMath(r\"<font size = '3', font color = 'black', font face = 'Times New Roman'>Sistema de ecuaciones:\"), HTMLMath18, \n                  HTML2, ipw.HTMLMath(r\"<font size = '3', font color = 'black', font face = 'Times New Roman'>Resultados:\"), HTMLMath19, \n                  HTML2, ipw.HTMLMath(r\"<font size = '3', font color = 'black', font face = 'Times New Roman'>Ecuacion de deflexiones:\"), HTMLMath20, \n                  HTML2, ipw.HTMLMath(r\"<font size = '3', font color = 'black', font face = 'Times New Roman'>Ecuacion de pendientes:\"), HTMLMath29,\n                  HTML2, ipw.HTMLMath(r\"<font size = '3', font color = 'black', font face = 'Times New Roman'>Ecuacion de momentos:\"), HTMLMath21,\n                  HTML2, ipw.HTMLMath(r\"<font size = '3', font color = 'black', font face = 'Times New Roman'>Ecuacion de cortantes:\"), HTMLMath30, HTML2], \n                  layout = ipw.Layout(justify_content = 'flex-start', width = '100%', height = 'auto', margin = '0px', padding = '0px', border = '0px'))\ndisplay(VBox5)",
      "metadata": {
        "tags": [],
        "jupyter": {
          "source_hidden": true
        },
        "trusted": true
      },
      "execution_count": 6,
      "outputs": [
        {
          "output_type": "display_data",
          "data": {
            "text/plain": "VBox(children=(HTML(value='<div style=\"border-bottom: 1.5px dashed #000;\"></div>'), HTMLMath(value=\"<font size…",
            "application/vnd.jupyter.widget-view+json": {
              "version_major": 2,
              "version_minor": 0,
              "model_id": "cc9e731f37604a81883856511461cf3c"
            }
          },
          "metadata": {}
        }
      ]
    },
    {
      "cell_type": "code",
      "source": "%%html\n<div style=\"text-align: center;\">\n    <h1 style=\"font-size: 50pt; color: black;\"><b>Solución Numérica</b></h1>\n</div>",
      "metadata": {
        "tags": [],
        "jupyter": {
          "source_hidden": true
        },
        "trusted": true
      },
      "execution_count": 7,
      "outputs": [
        {
          "output_type": "display_data",
          "data": {
            "text/plain": "<IPython.core.display.HTML object>",
            "text/html": "<div style=\"text-align: center;\">\n    <h1 style=\"font-size: 50pt; color: black;\"><b>Solución Numérica</b></h1>\n</div>\n"
          },
          "metadata": {}
        }
      ]
    },
    {
      "cell_type": "code",
      "source": "Output1 = ipw.Output(\n          layout = ipw.Layout(width = '60%', height = 'auto')\n)\nOutput2 = ipw.Output(\n          layout = ipw.Layout(width = 'auto', height = 'auto')\n)\nOutput3 = ipw.Output(\n          layout = ipw.Layout(width = 'auto', height = 'auto')\n)\nHTMLMath25 = ipw.HTMLMath(\n             value = r\"<font size = '10'>x\",\n             layout = ipw.Layout(width = 'auto', height = 'auto', margin = '0px', padding = '0px', border = '0px')\n)\nHTMLMath26 = ipw.HTMLMath(\n             value = r\"<font size = '10'>=\",\n             layout = ipw.Layout(width = 'auto', height = 'auto', margin = '0px', padding = '0px', border = '0px')\n)\nHBox4 = ipw.HBox([Output1, HTMLMath25, Output2, HTMLMath26, Output3], \n        layout = ipw.Layout(justify_content = 'space-between', align_items = 'center', width = '100%', height = '100%', margin = '0px', padding = '0px', border = '0px'))\ndisplay(HBox4)",
      "metadata": {
        "tags": [],
        "jupyter": {
          "source_hidden": true
        },
        "trusted": true
      },
      "execution_count": 8,
      "outputs": [
        {
          "output_type": "display_data",
          "data": {
            "text/plain": "HBox(children=(Output(layout=Layout(height='auto', width='60%')), HTMLMath(value=\"<font size = '10'>x\", layout…",
            "application/vnd.jupyter.widget-view+json": {
              "version_major": 2,
              "version_minor": 0,
              "model_id": "9b0a650f5a01434d8299eaf7e00575be"
            }
          },
          "metadata": {}
        }
      ]
    },
    {
      "cell_type": "code",
      "source": "%%html\n<div style=\"text-align: center;\">\n    <h1 style=\"font-size: 50pt; color: black;\"><b>Gráfica Analítica</b></h1>\n</div>",
      "metadata": {
        "tags": [],
        "jupyter": {
          "source_hidden": true
        },
        "trusted": true
      },
      "execution_count": 9,
      "outputs": [
        {
          "output_type": "display_data",
          "data": {
            "text/plain": "<IPython.core.display.HTML object>",
            "text/html": "<div style=\"text-align: center;\">\n    <h1 style=\"font-size: 50pt; color: black;\"><b>Gráfica Analítica</b></h1>\n</div>\n"
          },
          "metadata": {}
        }
      ]
    },
    {
      "cell_type": "code",
      "source": "VBox3 = ipw.VBox([fig4], \n        layout = ipw.Layout(justify_content = 'space-around', width = '100%', height = '300px', margin = '0px', padding = '0px', border = '0px'))\ndisplay(VBox3)",
      "metadata": {
        "tags": [],
        "jupyter": {
          "source_hidden": true
        },
        "trusted": true
      },
      "execution_count": 10,
      "outputs": [
        {
          "output_type": "display_data",
          "data": {
            "text/plain": "VBox(children=(Figure(axes=[Axis(color='black', grid_lines='dashed', label='Longitud (mm)', label_color='black…",
            "application/vnd.jupyter.widget-view+json": {
              "version_major": 2,
              "version_minor": 0,
              "model_id": "057889e5722d4210a7cc8a7dcf6396ee"
            }
          },
          "metadata": {}
        }
      ]
    },
    {
      "cell_type": "code",
      "source": "%%html\n<div style=\"text-align: center;\">\n    <h1 style=\"font-size: 50pt; color: black;\"><b>Gráfica Numérica</b></h1>\n</div>",
      "metadata": {
        "tags": [],
        "jupyter": {
          "source_hidden": true
        },
        "trusted": true
      },
      "execution_count": 11,
      "outputs": [
        {
          "output_type": "display_data",
          "data": {
            "text/plain": "<IPython.core.display.HTML object>",
            "text/html": "<div style=\"text-align: center;\">\n    <h1 style=\"font-size: 50pt; color: black;\"><b>Gráfica Numérica</b></h1>\n</div>\n"
          },
          "metadata": {}
        }
      ]
    },
    {
      "cell_type": "code",
      "source": "VBox4 = ipw.VBox([fig5], \n        layout = ipw.Layout(justify_content = 'space-around', width = '100%', height = '300px', margin = '0px', padding = '0px', border = '0px'))\ndisplay(VBox4)",
      "metadata": {
        "tags": [],
        "jupyter": {
          "source_hidden": true
        },
        "trusted": true
      },
      "execution_count": 12,
      "outputs": [
        {
          "output_type": "display_data",
          "data": {
            "text/plain": "VBox(children=(Figure(axes=[Axis(color='black', grid_lines='dashed', label='Longitud (mm)', label_color='black…",
            "application/vnd.jupyter.widget-view+json": {
              "version_major": 2,
              "version_minor": 0,
              "model_id": "1be032087e254bdc869241c7788bc586"
            }
          },
          "metadata": {}
        }
      ]
    },
    {
      "cell_type": "code",
      "source": "def count_elems(valor):\n    if 'NDom' in globals():\n        if Scatter4.names == None:\n            Scatter4.names = np.arange(1, len(NDom) + 1)\nButton3.on_click(count_elems)\n\ndef draw_shaft(DE, DI, L, AI, AD, FS3):\n    Lines1.x = np.array([[-L / 2, L / 2, L / 2, -L / 2, -L / 2], [FS3 - L / 2, FS3 - L / 2]], dtype = 'object')\n    Lines1.y = np.array([[-DE / 2, -DE / 2, DE / 2, DE / 2, -DE / 2], [DE / 2, DE]], dtype = 'object')\n    Lines2.x = np.array([-L / 2, L / 2, L / 2, -L / 2, -L / 2])\n    Lines2.y = np.array([-DI / 2, -DI / 2, DI / 2, DI / 2, -DI / 2]) \n    Scatter1.x = [-L / 2]\n    Scatter1.y = [-DE / 2]\n    Scatter2.x = [L / 2]\n    Scatter2.y = [-DE / 2]\n    Scatter3.x = [FS3 - L / 2]\n    Scatter3.y = [DE / 2]\n    if AI == 'Elastico':\n        Scatter1.marker = 'triangle-up'\n    else:\n        Scatter1.marker = 'square'\n    if AD == 'Elastico':\n        Scatter2.marker = 'triangle-up'\n    else:\n        Scatter2.marker = 'square'\n\ndef upd_diamay(valor):\n    draw_shaft(valor, BoundedFloatText3.value, BoundedFloatText4.value, Dropdown1.value, Dropdown2.value, FloatSlider3.value)\nf_upd_diamay = ipw.interactive(upd_diamay, valor = BoundedFloatText2)\n\ndef upd_diamen(valor):\n    draw_shaft(BoundedFloatText2.value, valor, BoundedFloatText4.value, Dropdown1.value, Dropdown2.value, FloatSlider3.value)\nf_upd_diamen = ipw.interactive(upd_diamen, valor = BoundedFloatText3)\n\ndef upd_longit(valor):\n    draw_shaft(BoundedFloatText2.value, BoundedFloatText3.value, valor, Dropdown1.value, Dropdown2.value, FloatSlider3.value)\n    FloatSlider3.max = valor\n    FloatSlider3.value = valor / 2\nf_upd_longit = ipw.interactive(upd_longit, valor = BoundedFloatText4)\n\ndef upd_lefapo(valor):\n    draw_shaft(BoundedFloatText2.value, BoundedFloatText3.value, BoundedFloatText4.value, valor, Dropdown2.value, FloatSlider3.value)\nf_upd_lefapo = ipw.interactive(upd_lefapo, valor = Dropdown1)\n\ndef upd_rigapo(valor):\n    draw_shaft(BoundedFloatText2.value, BoundedFloatText3.value, BoundedFloatText4.value, Dropdown1.value, valor, FloatSlider3.value)\nf_upd_rigapo = ipw.interactive(upd_rigapo, valor = Dropdown2)\n\ndef move_arrow(valor):\n    draw_shaft(BoundedFloatText2.value, BoundedFloatText3.value, BoundedFloatText4.value, Dropdown1.value, Dropdown2.value, valor)\nf_move_arrow = ipw.interactive(move_arrow, valor = FloatSlider3)\n\ndef num_calc(L, E, I, G):\n    L = L\n    E = E\n    I = I\n    G = G\n    Nod_Tot = np.concatenate((np.array([0]), np.cumsum(L[0:2])))\n    Nod_Ini = Nod_Tot[0:2]\n    Nod_Fin = Nod_Tot[1:3]\n    A   = (np.pi / 4) * ((BoundedFloatText2.value / 1000) ** 2 - (BoundedFloatText3.value / 1000) ** 2)       \n    m   = np.repeat(BoundedFloatText3.value / BoundedFloatText2.value, 2)\n    k   = (6 * (1 + 0.3) * (1 + m ** 2) ** 2) / ((7 + 6 * 0.3) * (1 + m ** 2) ** 2 + (20 + 12 * 0.3) * m ** 2)\n    p   = (12 * E * I) / (k * A * G * L ** 2)\n    N_E = np.repeat(BoundedFloatText5.value + 1, 2)\n    L_L = (Nod_Fin - Nod_Ini) / N_E\n    I_I = np.repeat(I, 2)\n    P_P = np.repeat(p, 2)\n    E_E = np.repeat(E, 2)\n    L1  = [np.zeros((1, N_E[0]))[0], np.zeros((1, N_E[1]))[0]]\n    I1  = [np.zeros((1, N_E[0]))[0], np.zeros((1, N_E[1]))[0]]\n    E1  = [np.zeros((1, N_E[0]))[0], np.zeros((1, N_E[1]))[0]]\n    phi1 = [np.zeros((1, N_E[0]))[0], np.zeros((1, N_E[1]))[0]]\n    for i in range(2):\n        L1[i] = np.repeat(L_L[i], N_E[i])\n        I1[i] = np.repeat(I_I[i], N_E[i])\n        E1[i] = np.repeat(E_E[i], N_E[i])\n        phi1[i] = np.repeat(P_P[i], N_E[i])\n    L1   = np.concatenate((L1[0], L1[1]))\n    I1   = np.concatenate((I1[0], I1[1]))\n    E1   = np.concatenate((E1[0], E1[1]))\n    phi1 = np.concatenate((phi1[0], phi1[1]))\n    MG   = np.zeros((sum(N_E), 2 * (sum(N_E) + 1), 2 * (sum(N_E) + 1)))\n    ML   = np.zeros((sum(N_E), 4, 4))\n    for i in range(sum(N_E)):\n        ML[i, :, :] = (E1[i] / L1[i] ** 3) * (I1[i] / (1 + phi1[i])) * np.array([\n                      [12, 6 * L1[i], -12, 6 * L1[i]],\n                      [6 * L1[i], (4 + phi1[i]) * L1[i] ** 2, -6 * L1[i], (2 - phi1[i]) * L1[i] ** 2],\n                      [-12, -6 * L1[i], 12, -6 * L1[i]],\n                      [6 * L1[i], (2 - phi1[i]) * L1[i] ** 2, -6 * L1[i], (4 + phi1[i]) * L1[i] ** 2]])\n        MG[i, np.array([2 * i, 2 * i + 1, 2 * i + 2, 2 * i + 3])[:,np.newaxis], np.array([2 * i, 2 * i + 1, 2 * i + 2, 2 * i + 3])[np.newaxis,:]] = ML[i, :, :]\n    MG  = np.sum(MG, axis = 0)\n\n    FCT = np.arange(0, (3 + 2 * BoundedFloatText5.value) * 2)\n    FCE = np.array([0, (2 + 2 * BoundedFloatText5.value) * 2])\n    if Dropdown1.value == 'Fijo':\n        FCE = np.concatenate((FCE, np.array([1])))\n    if Dropdown2.value == 'Fijo':\n        FCE = np.concatenate((FCE, np.array([(2 + 2 * BoundedFloatText5.value) * 2 + 1])))\n    FCS = np.setdiff1d(FCT, FCE)\n    MRA = MG[FCS[:,np.newaxis], FCS[np.newaxis,:]]\n    if Checkbox1.value == True:\n        FDN = - (((np.pi / 4) * ((BoundedFloatText2.value / 1000) ** 2 - (BoundedFloatText3.value / 1000) ** 2)) * (BoundedFloatText4.value / 1000) * BoundedFloatText1.value * 9.81) / (3 + 2 * BoundedFloatText5.value)\n    else:\n        FDN = 0\n    MFD = np.repeat(FDN, 3 + 2 * BoundedFloatText5.value).reshape((3 + 2 * BoundedFloatText5.value, 1))\n    MDF = np.zeros((3 + 2 * BoundedFloatText5.value, 1))\n    MDF[1 + BoundedFloatText5.value] = FloatText2.value * 1000\n    MDF = MDF + MFD\n    MDM = np.zeros((3 + 2 * BoundedFloatText5.value, 1))\n    MDM[1 + BoundedFloatText5.value] = FloatText3.value * 1000\n    MFM = np.hstack((MDF, MDM)).reshape((len(MFD) * 2, 1))\n    MRB = MFM[FCS]\n    MRX = np.linalg.solve(MRA, MRB)\n    MPD = np.zeros(((3 + 2 * BoundedFloatText5.value) * 2, 1))\n    MPD[FCS] = MRX\n    MFM = np.dot(MG, MPD)\n    FC  = np.array([])\n    MF  = np.array([])\n    for i in range(sum(N_E)):\n        MLR = np.dot(ML[i], MPD[(2 * i):(2 * i + 4)])\n        FC  = np.concatenate((FC, MLR[0], MLR[2]))\n        MF  = np.concatenate((MF, MLR[1], MLR[3]))\n    RD  = MPD[range(0, len(MPD), 2)]\n    RP  = MPD[range(1, len(MPD), 2)]\n    Dom = np.unique(np.concatenate((np.linspace(0, FloatSlider3.value, BoundedFloatText5.value + 2), np.linspace(FloatSlider3.value, BoundedFloatText4.value, BoundedFloatText5.value + 2))))\n    return RD, RP, MF, FC, MRA, MRB, MRX, Dom\n        \ndef sym_calc(L, EI, AE, AF, F, M, D):\n    Lon_Tra = L\n    Ine_You = EI\n    Apo_Ela = AE\n    Apo_Fij = AF\n    Fue_Nod = F\n    Mom_Nod = M\n    Fue_Dis = D\n\n    Nod_Tot = np.concatenate((np.array([0]), np.cumsum(Lon_Tra[0:2])))\n    Nod_Ini = Nod_Tot[0:2]\n    Nod_Fin = Nod_Tot[1:3]\n    Apo_Tot = Apo_Ela + Apo_Fij\n\n    nvr = ''\n    for i in range(1,np.shape(np.nonzero(Apo_Tot))[1] + 1):\n            var = ' r' + str(i)\n            nvr = nvr + var\n    Cons_0  = sp.var(nvr)\n    Rea_Fue = np.array([0, 0 ,0], dtype = object)\n    Rea_Fue[Apo_Tot > 0] = Cons_0\n    Fue_Nod = Fue_Nod + Rea_Fue\n\n    if sum(Apo_Fij) != 0:\n        nvr = ''\n        for i in range(1,np.shape(np.nonzero(Apo_Fij))[1] + 1):\n                var = ' m' + str(i)\n                nvr = nvr + var\n        Cons_1  = sp.var(nvr)\n        Rea_Mom = np.array([0, 0 ,0], dtype = object)\n        Rea_Mom[Apo_Fij > 0] = Cons_1\n        Mom_Nod = Mom_Nod + Rea_Mom\n\n    x = sp.var('x'); x1 = sp.var('x1'); x2 = sp.var('x2')\n    Com_Fue = np.array([0, 0], dtype = object)\n    Com_Dis = np.array([0, 0], dtype = object)\n    for i in range(2):\n        Com_Fue[i] = sum(Fue_Nod[0:i + 1])\n        Com_Dis[i] = Fue_Dis[i] * (x - Nod_Ini[i])\n    Fue_Equ = Fue_Dis * (Nod_Fin - Nod_Ini)\n    Fue_Equ = np.concatenate((np.array([0]), np.cumsum(Fue_Equ[0:1])))\n\n    Ecu_Cor = np.array([0, 0], dtype = object)\n    for i in range(2):\n        Ecu_Cor[i] = Com_Fue[i] + Com_Dis[i] + Fue_Equ[i]\n    \n    x1 = 0\n    Ecu_Mom = np.array([0, 0], dtype = object)\n    for i in range(2):\n        Ecu_1      = sp.integrate(Ecu_Cor[i], x) + x2 + Mom_Nod[i] - x1\n        Ecu_1      = Ecu_1.subs(x, Nod_Ini[i])\n        Ecu_2      = sp.integrate(Ecu_Cor[i], x) + np.array(solve(Ecu_1, x2))[0]\n        Ecu_Mom[i] = Ecu_2\n        x1         = Ecu_2.subs(x, Nod_Fin[i])      \n    Sis_Fue = sum(Fue_Nod) + sum(Fue_Dis * (Nod_Fin - Nod_Ini))\n    Sis_Mom = sum(Mom_Nod) + sum(Nod_Fin * Fue_Nod[1:]) + sum((Fue_Dis * (Nod_Fin - Nod_Ini)) * ((Nod_Fin + Nod_Ini) / 2))\n\n    Ecu_Pen = np.array([0, 0], dtype = object)\n    Ecu_Def = np.array([0, 0], dtype = object)\n    for i in range(2):\n        Ecu_Pen[i] = sp.integrate(Ecu_Mom[i], x) + sp.var('c' + str(2 * (i + 1) - 1))\n        Ecu_Def[i] = sp.integrate(Ecu_Pen[i], x) + sp.var('c' + str(2 * (i + 1)))\n    \n    if FloatSlider3.value <= BoundedFloatText4.value / 2:\n        Sho_Cor = Ecu_Cor[0]\n        Sho_Mom = Ecu_Mom[0] \n        Sho_Pen = Ecu_Pen[0]\n        Sho_Def = Ecu_Def[0]\n    else:\n        Sho_Cor = Ecu_Cor[1]\n        Sho_Mom = Ecu_Mom[1] \n        Sho_Pen = Ecu_Pen[1]\n        Sho_Def = Ecu_Def[1]\n    \n    Sis_Pen = Ecu_Pen[1].subs(x, Nod_Fin[0]) / Ine_You - Ecu_Pen[0].subs(x, Nod_Fin[0]) / Ine_You\n    Sis_Def = Ecu_Def[1].subs(x, Nod_Fin[0]) / Ine_You - Ecu_Def[0].subs(x, Nod_Fin[0]) / Ine_You\n\n    Sis_Nod = np.array([0, 0], dtype = object)\n    Sis_Nod[0] = Ecu_Def[0].subs(x, Nod_Tot[0])\n    Sis_Nod[1] = Ecu_Def[1].subs(x, Nod_Tot[2])\n    if sum(Apo_Fij) != 0: \n        Sis_Nop = np.zeros((1, np.count_nonzero(Apo_Fij)), dtype = object)[0]\n        j = -1\n        for i in range(3):\n            if Apo_Fij[i] != 0:\n                j = j + 1\n                if Apo_Fij[i] == 1:\n                    Sis_Nop[j] = Ecu_Pen[0].subs(x, Nod_Tot[i])\n                elif Apo_Fij[i] == 3:\n                    Sis_Nop[j] = Ecu_Pen[1].subs(x, Nod_Tot[i])\n        if len(Sis_Nop) == 1:\n            Sis_Ecu = (Sis_Fue, Sis_Mom, Sis_Pen, Sis_Def, Sis_Nod[0], Sis_Nod[1], Sis_Nop[0])\n        else:\n            Sis_Ecu = (Sis_Fue, Sis_Mom, Sis_Pen, Sis_Def, Sis_Nod[0], Sis_Nod[1], Sis_Nop[0], Sis_Nop[1])\n    else:\n        Sis_Ecu = (Sis_Fue, Sis_Mom, Sis_Pen, Sis_Def, Sis_Nod[0], Sis_Nod[1])\n    rpts = sp.solve(Sis_Ecu)\n\n    for i in range(2):\n        Ecu_Def[i] = Ecu_Def[i].subs(c1, rpts[c1])\n        Ecu_Def[i] = Ecu_Def[i].subs(c2, rpts[c2])\n        Ecu_Def[i] = Ecu_Def[i].subs(c3, rpts[c3])\n        Ecu_Def[i] = Ecu_Def[i].subs(c4, rpts[c4])\n        Ecu_Def[i] = Ecu_Def[i].subs(r1, rpts[r1])\n        if sum(Apo_Fij) != 0: \n            Ecu_Def[i] = Ecu_Def[i].subs(m1, rpts[m1])\n\n    Ecu_Def = Ecu_Def / Ine_You\n    for i in range(2):\n        Ecu_Pen[i] = sp.diff(Ecu_Def[i], x)\n        Ecu_Mom[i] = sp.diff(Ecu_Pen[i], x) * Ine_You\n        Ecu_Cor[i] = sp.diff(Ecu_Mom[i], x)\n\n    Dom = np.array([np.linspace(Nod_Tot[0], Nod_Tot[1], 50), np.linspace(Nod_Tot[1], Nod_Tot[2], 50)])\n    Val_Def = np.array([])\n    Val_Pen = np.array([])\n    Val_Mom = np.array([])\n    Val_Cor = np.array([])\n    for i in range(2):\n        flamb = lambdify(x, Ecu_Def[i], \"numpy\")\n        Val_Def = np.append(Val_Def, flamb(Dom[i]))\n        flamb = lambdify(x, Ecu_Pen[i], \"numpy\")\n        Val_Pen = np.append(Val_Pen, flamb(Dom[i]))\n        flamb = lambdify(x, Ecu_Mom[i], \"numpy\")\n        Val_Mom = np.append(Val_Mom, flamb(Dom[i]))\n        flamb = lambdify(x, Ecu_Cor[i], \"numpy\")\n        Val_Cor = np.append(Val_Cor, flamb(Dom[i]))\n    Dom = Dom.reshape(100,) * 1000\n    \n    if FloatSlider3.value <= BoundedFloatText4.value / 2:\n        Hid_Cor = Ecu_Cor[0]\n        Hid_Mom = Ecu_Mom[0] \n        Hid_Pen = Ecu_Pen[0]\n        Hid_Def = Ecu_Def[0]\n    else:\n        Hid_Cor = Ecu_Cor[1]\n        Hid_Mom = Ecu_Mom[1] \n        Hid_Pen = Ecu_Pen[1]\n        Hid_Def = Ecu_Def[1]\n    return Val_Def, Val_Pen, Val_Mom, Val_Cor, Sho_Cor, Sho_Mom, Sho_Pen, Sho_Def, Sis_Ecu, rpts, Hid_Def, Hid_Pen, Hid_Mom, Hid_Cor, Dom\n\ndef shaft_calc(valor):\n    global Sim_Def, Sim_Pen, Sim_Mom, Sim_Cor, Dom, Num_Def, Num_Pen, Num_Mom, Num_Cor, NDom\n    L = np.array([FloatSlider3.value / 1000, (BoundedFloatText4.value - FloatSlider3.value) / 1000])\n    EI = 207e9 * ((np.pi / 64) * ((BoundedFloatText2.value / 1000) ** 4 - (BoundedFloatText3.value / 1000) ** 4))\n    AE = np.array([0, 0, 0])\n    AF = np.array([0, 0, 0])\n    if Dropdown1.value == 'Elastico':\n        AE[0] = 1\n    else:\n        AF[0] = 1\n    if Dropdown2.value == 'Elastico':\n        AE[2] = 3\n    else:\n        AF[2] = 3\n    F = np.array([0, FloatText2.value * 1000, 0])\n    M = np.array([0, FloatText3.value * 1000, 0])\n    if Checkbox1.value == True:\n        D = ((np.pi / 4) * ((BoundedFloatText2.value / 1000) ** 2 - (BoundedFloatText3.value / 1000) ** 2)) * BoundedFloatText1.value * 9.81\n        D = np.array([-D, -D])\n    else:\n        D = np.array([0, 0])\n    Sim_Def, Sim_Pen, Sim_Mom, Sim_Cor, Sho_Cor, Sho_Mom, Sho_Pen, Sho_Def, Sis_Ecu, rpts, Ecu_Def, Ecu_Pen, Ecu_Mom, Ecu_Cor, Dom = sym_calc(L, EI, AE, AF, F, M, D)\n    HTMLMath27.value = f'${latex(Sho_Cor)}$'\n    HTMLMath16.value = f'${latex(Sho_Mom)}$'\n    HTMLMath28.value = f'${latex(Sho_Pen)}$'\n    HTMLMath17.value = f'${latex(Sho_Def)}$'\n    HTMLMath18.value = f'${latex(Sis_Ecu)}$'\n    HTMLMath19.value = f'${latex(rpts)}$'\n    HTMLMath20.value = f'${latex(Ecu_Def)}$'\n    HTMLMath29.value = f'${latex(Ecu_Pen)}$'\n    HTMLMath21.value = f'${latex(Ecu_Mom)}$'\n    HTMLMath30.value = f'${latex(Ecu_Cor)}$'\n    \n    E  = 207e9\n    I  = (np.pi / 64) * ((BoundedFloatText2.value / 1000) ** 4 - (BoundedFloatText3.value / 1000) ** 4)\n    G   = 80e9\n    Num_Def, Num_Pen, Num_Mom, Num_Cor, MRA, MRB, MRX, NDom = num_calc(L, E, I, G) \n    df1 = pd.DataFrame(MRA)\n    df1_html = df1.to_html(index = False, header = False)\n    df2 = pd.DataFrame(MRB)\n    df2_html = df2.to_html(index = False, header = False)\n    df3 = pd.DataFrame(MRX)\n    df3_html = df3.to_html(index = False, header = False)\n    with Output1:\n        display(HTML(df1_html))\n    with Output2:\n        display(HTML(df2_html))\n    with Output3:\n        display(HTML(df3_html))\n    Output1.clear_output(wait = True)\n    Output2.clear_output(wait = True)\n    Output3.clear_output(wait = True)\n        \n    X = Dom\n    Y = abs(Sim_Def)\n    S1 = np.trapz(y = Y, x = X)\n    S2 = np.trapz(y = Y ** 2, x = X)\n    Sim_Vcr = (30 / np.pi) * np.sqrt(9.81 * abs(S1/ S2))\n    # S1 = abs(sp.integrate(Fun_Def[0], (x, 0, FloatSlider3.value / 1000))) + abs(sp.integrate(Fun_Def[1], (x, FloatSlider3.value / 1000, BoundedFloatText4.value / 1000)))\n    # S2 = abs(sp.integrate(Fun_Def[0] ** 2, (x, 0, FloatSlider3.value / 1000))) + abs(sp.integrate(Fun_Def[1] ** 2, (x, FloatSlider3.value / 1000, BoundedFloatText4.value / 1000)))\n    # Sim_Vcr1 = (30 / np.pi) * sp.sqrt(9.81 * abs(S1/ S2))\n    X = NDom\n    Y = abs(Num_Def.T[0])\n    S1 = np.trapz(y = Y, x = X)\n    S2 = np.trapz(y = Y ** 2, x = X)\n    Num_Vcr = (30 / np.pi) * np.sqrt(9.81 * abs(S1/ S2))\n    # if Checkbox1.value == False:\n    grid1[1, 1].value = str(max(abs(Sim_Def)))\n    grid1[1, 2].value = str(Sim_Vcr)\n    grid1[2, 1].value = str(max(abs(Num_Def.T[0])))\n    grid1[2, 2].value = str(Num_Vcr)\n    grid1[3, 1].value = str(abs(((max(abs(Sim_Def)) - max(abs(Num_Def.T[0]))) / max(abs(Num_Def.T[0]))) * 100))\n    grid1[3, 2].value = str(abs(((Sim_Vcr - Num_Vcr) / Num_Vcr) * 100))\n    Button2.click()\nButton1.on_click(shaft_calc)\n\ndef draw_graph(valor):\n    if Dropdown3.value == 'Cortantes':\n        ylabel = 'Cortantes (N)'\n        if Checkbox1.value == False:\n            YDom = np.repeat(Sim_Cor, 50)\n        else:\n            YDom = Sim_Cor\n        DomY = Num_Cor[range(0, len(Num_Cor), 2)]\n        DomY = np.append(DomY, -Num_Cor[-1])\n    elif Dropdown3.value == 'Momentos':\n        ylabel = 'Momentos (N.m)'\n        YDom = Sim_Mom\n        DomY = Num_Mom[range(0, len(Num_Mom), 2)]\n        DomY = -np.append(DomY, -Num_Mom[-1])\n    elif Dropdown3.value == 'Pendientes':\n        ylabel = 'Pendientes (rad)'\n        YDom = Sim_Pen\n        DomY = Num_Pen.T[0]\n    elif Dropdown3.value == 'Deflexiones':\n        ylabel = 'Deflexiones (mm)'\n        YDom = Sim_Def * 1000\n        DomY = Num_Def.T[0] * 1000\n    Scatter4.x = NDom\n    Scatter4.y = DomY\n    Scatter4.tooltip = bqp.Tooltip(fields = ['x', 'y'], formats = ['.2f', '.2f'])\n    Scatter4.names = None\n    XDom = np.insert(Dom, 0, 0)\n    XDom = np.append(XDom, BoundedFloatText4.value)\n    YDom = np.insert(YDom, 0, 0)\n    YDom = np.append(YDom, 0)\n    DomX = np.insert(NDom, 0, 0)\n    DomX = np.append(DomX, BoundedFloatText4.value)\n    DomY = np.insert(DomY, 0, 0)\n    DomY = np.append(DomY, 0)\n    Lines3.x = XDom\n    Lines3.y = YDom\n    Lines3.tooltip = bqp.Tooltip(fields = ['x', 'y'], formats = ['.2f', '.2f'])\n    Lines4.x = DomX\n    Lines4.y = DomY\n    fig4.axes[1].label = ylabel\n    fig5.axes[1].label = ylabel\n    \n    Rmay = (BoundedFloatText2.value / 2) / 1000\n    Rmen = (BoundedFloatText3.value / 2) / 1000\n    Vmax = max(abs(Sim_Cor))\n    Mmax = max(abs(Sim_Mom))\n    Ecor = (4 * Vmax * (Rmay ** 2 + Rmay * Rmen + Rmen ** 2)) / (3 * np.pi * (Rmay ** 4 - Rmen ** 4))\n    Efle = (4 * Mmax * Rmay) / (np.pi * (Rmay ** 4 - Rmen ** 4))\n    Svon = np.sqrt(Efle ** 2 + 3 * Ecor ** 2)\n    grid1[1, 3].value = str(Svon)\n    Vmax = max(abs(Num_Cor))\n    Mmax = max(abs(Num_Mom))\n    Ecor = (4 * Vmax * (Rmay ** 2 + Rmay * Rmen + Rmen ** 2)) / (3 * np.pi * (Rmay ** 4 - Rmen ** 4))\n    Efle = (4 * Mmax * Rmay) / (np.pi * (Rmay ** 4 - Rmen ** 4))\n    Nvon = np.sqrt(Efle ** 2 + 3 * Ecor ** 2)\n    grid1[2, 3].value = str(Nvon)\n    grid1[3, 3].value = str((abs(Svon - Nvon) / Nvon) * 100)\nButton2.on_click(draw_graph)",
      "metadata": {
        "tags": [],
        "jupyter": {
          "source_hidden": true
        },
        "trusted": true
      },
      "execution_count": 13,
      "outputs": []
    }
  ]
}